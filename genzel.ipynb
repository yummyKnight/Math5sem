{
 "cells": [
  {
   "cell_type": "code",
   "execution_count": 1,
   "metadata": {},
   "outputs": [
    {
     "name": "stdout",
     "output_type": "stream",
     "text": [
      "IPython console for SymPy 1.6.2 (Python 3.7.3-64-bit) (ground types: python)\n",
      "\n",
      "These commands were executed:\n",
      ">>> from __future__ import division\n",
      ">>> from sympy import *\n",
      ">>> x, y, z, t = symbols('x y z t')\n",
      ">>> k, m, n = symbols('k m n', integer=True)\n",
      ">>> f, g, h = symbols('f g h', cls=Function)\n",
      ">>> init_printing()\n",
      "\n",
      "Documentation can be found at https://docs.sympy.org/1.6.2/\n",
      "\n"
     ]
    }
   ],
   "source": [
    "from sympy import poly, init_session\n",
    "from sympy import pdiv, div\n",
    "from sympy.abc import x,y\n",
    "from sympy import ZZ, GF\n",
    "from sympy.solvers import solve\n",
    "from sympy import Symbol\n",
    "from sympy.solvers.diophantine import diophantine\n",
    "from IPython.display import display\n",
    "init_session()"
   ]
  },
  {
   "cell_type": "code",
   "execution_count": 2,
   "metadata": {},
   "outputs": [
    {
     "data": {
      "text/plain": "Poly(x**5 - 2*x**3 + 7*x**2 - 5*x + 1, x, domain='ZZ')",
      "image/png": "[encoded data removed]",
      "text/latex": "$\\displaystyle \\operatorname{Poly}{\\left( x^{5} - 2 x^{3} + 7 x^{2} - 5 x + 1, x, domain=\\mathbb{Z} \\right)}$"
     },
     "execution_count": 2,
     "metadata": {},
     "output_type": "execute_result"
    }
   ],
   "source": [
    "# исходный полином\n",
    "# start=poly(x**5+2*x**4-2*x**3+9*x**2-35*x-5)\n",
    "start = poly(x ** 5 - 2 * x ** 3 + 7 * x ** 2 - 5 * x + 1)\n",
    "start"
   ]
  },
  {
   "cell_type": "code",
   "execution_count": 8,
   "metadata": {},
   "outputs": [
    {
     "data": {
      "text/plain": "'Подъем до Z[4]'"
     },
     "metadata": {},
     "output_type": "display_data"
    },
    {
     "data": {
      "text/plain": "'Полином F'"
     },
     "metadata": {},
     "output_type": "display_data"
    },
    {
     "data": {
      "text/plain": "Poly(x**5 + 7*x**3 + 7*x**2 + 4*x + 1, x, modulus=9)",
      "image/png": "[encoded data removed]",
      "text/latex": "$\\displaystyle \\operatorname{Poly}{\\left( x^{5} + 7 x^{3} + 7 x^{2} + 4 x + 1, x, domain=\\mathbb{F}_{9} \\right)}$"
     },
     "metadata": {},
     "output_type": "display_data"
    },
    {
     "data": {
      "text/plain": "'Полином G'"
     },
     "metadata": {},
     "output_type": "display_data"
    },
    {
     "data": {
      "text/plain": "Poly(x**3 + x**2 + 2, x, modulus=3)",
      "image/png": "[encoded data removed]",
      "text/latex": "$\\displaystyle \\operatorname{Poly}{\\left( x^{3} + x^{2} + 2, x, domain=\\mathbb{F}_{3} \\right)}$"
     },
     "metadata": {},
     "output_type": "display_data"
    },
    {
     "data": {
      "text/plain": "'Полином h'"
     },
     "metadata": {},
     "output_type": "display_data"
    },
    {
     "data": {
      "text/plain": "Poly(x**2 + 2*x + 2, x, modulus=3)",
      "image/png": "[encoded data removed]",
      "text/latex": "$\\displaystyle \\operatorname{Poly}{\\left( x^{2} + 2 x + 2, x, domain=\\mathbb{F}_{3} \\right)}$"
     },
     "metadata": {},
     "output_type": "display_data"
    },
    {
     "data": {
      "text/plain": "'Полином s'"
     },
     "metadata": {},
     "output_type": "display_data"
    },
    {
     "data": {
      "text/plain": "Poly(x**5 + 3*x**4 + 4*x**3 + 4*x**2 + 4*x + 4, x, modulus=9)",
      "image/png": "[encoded data removed]",
      "text/latex": "$\\displaystyle \\operatorname{Poly}{\\left( x^{5} + 3 x^{4} + 4 x^{3} + 4 x^{2} + 4 x + 4, x, domain=\\mathbb{F}_{9} \\right)}$"
     },
     "metadata": {},
     "output_type": "display_data"
    },
    {
     "data": {
      "text/plain": "'Полином f - s // 2'"
     },
     "metadata": {},
     "output_type": "display_data"
    },
    {
     "data": {
      "text/plain": "Poly(2*x**4 + x**3 + x**2 + 2, x, modulus=3)",
      "image/png": "[encoded data removed]",
      "text/latex": "$\\displaystyle \\operatorname{Poly}{\\left( 2 x^{4} + x^{3} + x^{2} + 2, x, domain=\\mathbb{F}_{3} \\right)}$"
     },
     "metadata": {},
     "output_type": "display_data"
    }
   ],
   "source": [
    "# подъем до 4-ех\n",
    "display(\"Подъем до Z[4]\")\n",
    "dom = 3\n",
    "f = poly(start, domain = GF(dom*3, symmetric=False))\n",
    "display(\"Полином F\")\n",
    "display(f)\n",
    "g = poly(x ** 3 + x ** 2 + 2, domain=GF(dom, symmetric=False))\n",
    "display(\"Полином G\")\n",
    "display(g)\n",
    "h = poly(x ** 2 + 2 * x + 2, domain=GF(dom, symmetric=False))\n",
    "display(\"Полином h\")\n",
    "display(h)\n",
    "p = h\n",
    "r = g\n",
    "s = poly(p, domain=GF(dom*3, symmetric=False))*poly(r, domain=GF(dom*2, symmetric=False))\n",
    "display(\"Полином s\")\n",
    "display(s)\n",
    "s = poly((f-s) // dom, domain = GF(dom, symmetric=False))\n",
    "display(\"Полином f - s // 2\")\n",
    "display(s)\n",
    "# g * h"
   ]
  },
  {
   "cell_type": "code",
   "execution_count": 10,
   "metadata": {},
   "outputs": [
    {
     "data": {
      "text/plain": "'Упрощенные частные решения дифантова уравнения:'"
     },
     "metadata": {},
     "output_type": "display_data"
    },
    {
     "data": {
      "text/plain": "'Полином d'"
     },
     "metadata": {},
     "output_type": "display_data"
    },
    {
     "data": {
      "text/plain": "Poly(x**5 + x**4 + 2*x + 1, x, modulus=3)",
      "image/png": "[encoded data removed]",
      "text/latex": "$\\displaystyle \\operatorname{Poly}{\\left( x^{5} + x^{4} + 2 x + 1, x, domain=\\mathbb{F}_{3} \\right)}$"
     },
     "metadata": {},
     "output_type": "display_data"
    },
    {
     "data": {
      "text/plain": "'Полином t'"
     },
     "metadata": {},
     "output_type": "display_data"
    },
    {
     "data": {
      "text/plain": "Poly(x**4 + 2*x**3 + 2*x**2 + 2, x, modulus=3)",
      "image/png": "[encoded data removed]",
      "text/latex": "$\\displaystyle \\operatorname{Poly}{\\left( x^{4} + 2 x^{3} + 2 x^{2} + 2, x, domain=\\mathbb{F}_{3} \\right)}$"
     },
     "metadata": {},
     "output_type": "display_data"
    },
    {
     "data": {
      "text/plain": "'Полином g2'"
     },
     "metadata": {},
     "output_type": "display_data"
    },
    {
     "data": {
      "text/plain": "Poly(2*x**5 + 2*x**4 + x**3 + x**2 + 4*x + 4, x, modulus=9)",
      "image/png": "[encoded data removed]",
      "text/latex": "$\\displaystyle \\operatorname{Poly}{\\left( 2 x^{5} + 2 x^{4} + x^{3} + x^{2} + 4 x + 4, x, domain=\\mathbb{F}_{9} \\right)}$"
     },
     "metadata": {},
     "output_type": "display_data"
    },
    {
     "data": {
      "text/plain": "'Полином h2'"
     },
     "metadata": {},
     "output_type": "display_data"
    },
    {
     "data": {
      "text/plain": "Poly(2*x**4 + 4*x**3 - 4*x**2 + 2*x - 3, x, modulus=9)",
      "image/png": "[encoded data removed]",
      "text/latex": "$\\displaystyle \\operatorname{Poly}{\\left( 2 x^{4} + 4 x^{3} - 4 x^{2} + 2 x - 3, x, domain=\\mathbb{F}_{9} \\right)}$"
     },
     "metadata": {},
     "output_type": "display_data"
    },
    {
     "data": {
      "text/plain": "'Проверка:'"
     },
     "metadata": {},
     "output_type": "display_data"
    },
    {
     "data": {
      "text/plain": "Poly(4*x**9 + 3*x**8 + 2*x**7 + 2*x**6 - 3*x**5 - 2*x**4 - x**3 - 2*x**2 - 4*x\n - 3, x, modulus=9)",
      "image/png": "[encoded data removed]",
      "text/latex": "$\\displaystyle \\operatorname{Poly}{\\left( 4 x^{9} + 3 x^{8} + 2 x^{7} + 2 x^{6} - 3 x^{5} - 2 x^{4} - x^{3} - 2 x^{2} - 4 x - 3, x, domain=\\mathbb{F}_{9} \\right)}$"
     },
     "metadata": {},
     "output_type": "display_data"
    }
   ],
   "source": [
    "rem = 0\n",
    "m, n = p, r\n",
    "k = 0\n",
    "k_arr=[]\n",
    "d_arr=[poly(1,x, domain=GF(dom, symmetric=False)),poly(0,x, domain=GF(dom, symmetric=False))]\n",
    "t_arr=[poly(0,x, domain=GF(dom, symmetric=False)), poly(1,x, domain=GF(dom, symmetric=False))]\n",
    "# реализация алгоритма евклида\n",
    "while 1 != rem:\n",
    "    k, rem = pdiv(m, n, domain= GF(3))\n",
    "    m = n\n",
    "    n = rem\n",
    "    k_arr.append(k)\n",
    "while len(k_arr)!=0:\n",
    "        d_arr.append(d_arr[0] + d_arr[1] * k_arr[0])\n",
    "        t_arr.append(t_arr[0] + t_arr[1] * k_arr[0])\n",
    "        d_arr.pop(0)\n",
    "        t_arr.pop(0)\n",
    "        k_arr.pop(0)\n",
    "d = d_arr[-1]*s\n",
    "t = t_arr[-1]*s\n",
    "q = pdiv(d,r)\n",
    "q = q[0]\n",
    "d = d + q * r\n",
    "t = t + q * p\n",
    "display(\"Упрощенные частные решения дифантова уравнения:\")\n",
    "display(\"Полином d\")\n",
    "display(d)\n",
    "display(\"Полином t\")\n",
    "display(t)\n",
    "display(\"Полином g2\")\n",
    "g_1 = poly(g, domain=GF(dom, symmetric=False))+poly(d, domain=GF(dom, symmetric=False))*poly(2,x, domain=GF(dom*3, symmetric=False))\n",
    "display(g_1)\n",
    "display(\"Полином h2\")\n",
    "h_1 = poly(h, domain=GF(dom, symmetric=False))+poly(t, domain=GF(dom, symmetric=False))*poly(2,x, domain=GF(dom*3, symmetric=False))\n",
    "display(h_1)\n",
    "display(\"Проверка:\")\n",
    "display(g_1*h_1)"
   ]
  },
  {
   "cell_type": "code",
   "execution_count": 32,
   "metadata": {
    "pycharm": {
     "name": "#%%\n"
    }
   },
   "outputs": [
    {
     "data": {
      "text/plain": "'Подъем до Z[8]'"
     },
     "metadata": {},
     "output_type": "display_data"
    },
    {
     "data": {
      "text/plain": "'Полином g2'"
     },
     "metadata": {},
     "output_type": "display_data"
    },
    {
     "data": {
      "text/plain": "Poly(x**3 + 2*x**2 + x + 3, x, modulus=4)",
      "image/png": "[encoded data removed]",
      "text/latex": "$\\displaystyle \\operatorname{Poly}{\\left( x^{3} + 2 x^{2} + x + 3, x, domain=\\mathbb{F}_{4} \\right)}$"
     },
     "metadata": {},
     "output_type": "display_data"
    },
    {
     "data": {
      "text/plain": "'Полином h2'"
     },
     "metadata": {},
     "output_type": "display_data"
    },
    {
     "data": {
      "text/plain": "Poly(x**2 + 1, x, modulus=4)",
      "image/png": "[encoded data removed]",
      "text/latex": "$\\displaystyle \\operatorname{Poly}{\\left( x^{2} + 1, x, domain=\\mathbb{F}_{4} \\right)}$"
     },
     "metadata": {},
     "output_type": "display_data"
    },
    {
     "data": {
      "text/plain": "'Полином f:'"
     },
     "metadata": {},
     "output_type": "display_data"
    },
    {
     "data": {
      "text/plain": "Poly(x**5 + 2*x**4 + 6*x**3 + x**2 + 5*x + 3, x, modulus=8)",
      "image/png": "[encoded data removed]",
      "text/latex": "$\\displaystyle \\operatorname{Poly}{\\left( x^{5} + 2 x^{4} + 6 x^{3} + x^{2} + 5 x + 3, x, domain=\\mathbb{F}_{8} \\right)}$"
     },
     "metadata": {},
     "output_type": "display_data"
    },
    {
     "data": {
      "text/plain": "'Полином s:'"
     },
     "metadata": {},
     "output_type": "display_data"
    },
    {
     "data": {
      "text/plain": "Poly(x**5 + 2*x**4 + 2*x**3 + 5*x**2 + x + 3, x, modulus=8)",
      "image/png": "[encoded data removed]",
      "text/latex": "$\\displaystyle \\operatorname{Poly}{\\left( x^{5} + 2 x^{4} + 2 x^{3} + 5 x^{2} + x + 3, x, domain=\\mathbb{F}_{8} \\right)}$"
     },
     "metadata": {},
     "output_type": "display_data"
    },
    {
     "data": {
      "text/plain": "'Полином f - s // 2'"
     },
     "metadata": {},
     "output_type": "display_data"
    },
    {
     "data": {
      "text/plain": "Poly(2*x**3 + 2*x**2 + 2*x, x, modulus=4)",
      "image/png": "[encoded data removed]",
      "text/latex": "$\\displaystyle \\operatorname{Poly}{\\left( 2 x^{3} + 2 x^{2} + 2 x, x, domain=\\mathbb{F}_{4} \\right)}$"
     },
     "metadata": {},
     "output_type": "display_data"
    }
   ],
   "source": [
    "display(\"Подъем до Z[8]\")\n",
    "dom *= 2\n",
    "g = poly(g, domain=GF(dom, symmetric=False))+poly(d, domain=GF(dom, symmetric=False))*poly(2,x, domain=GF(dom, symmetric=False))\n",
    "display(\"Полином g2\")\n",
    "display(g)\n",
    "h = poly(h, domain=GF(dom, symmetric=False))+poly(t, domain=GF(dom, symmetric=False))*poly(2,x, domain=GF(dom, symmetric=False))\n",
    "display(\"Полином h2\")\n",
    "display(h)\n",
    "p = h\n",
    "r = g\n",
    "f = poly(start, domain = GF(dom*2, symmetric=False))\n",
    "display(\"Полином f:\")\n",
    "display(f)\n",
    "s = poly(p, domain=GF(dom*2, symmetric=False))*poly(r, domain=GF(dom*2, symmetric=False))\n",
    "display(\"Полином s:\")\n",
    "display(s)\n",
    "s = poly((f-s)//2, domain = GF(dom, symmetric=False))\n",
    "display(\"Полином f - s // 2\")\n",
    "display(s)"
   ]
  },
  {
   "cell_type": "code",
   "execution_count": 33,
   "metadata": {
    "pycharm": {
     "name": "#%%\n"
    }
   },
   "outputs": [
    {
     "data": {
      "text/plain": "'Упрощенные частные решения дифантова уравнения:'"
     },
     "metadata": {},
     "output_type": "display_data"
    },
    {
     "data": {
      "text/plain": "'Полином d'"
     },
     "metadata": {},
     "output_type": "display_data"
    },
    {
     "data": {
      "text/plain": "Poly(2, x, modulus=4)",
      "image/png": "[encoded data removed]",
      "text/latex": "$\\displaystyle \\operatorname{Poly}{\\left( 2, x, domain=\\mathbb{F}_{4} \\right)}$"
     },
     "metadata": {},
     "output_type": "display_data"
    },
    {
     "data": {
      "text/plain": "'Полином t'"
     },
     "metadata": {},
     "output_type": "display_data"
    },
    {
     "data": {
      "text/plain": "Poly(2, x, modulus=4)",
      "image/png": "[encoded data removed]",
      "text/latex": "$\\displaystyle \\operatorname{Poly}{\\left( 2, x, domain=\\mathbb{F}_{4} \\right)}$"
     },
     "metadata": {},
     "output_type": "display_data"
    },
    {
     "data": {
      "text/plain": "'Полином g2'"
     },
     "metadata": {},
     "output_type": "display_data"
    },
    {
     "data": {
      "text/plain": "Poly(x**3 + 2*x**2 + x - 1, x, modulus=8)",
      "image/png": "[encoded data removed]",
      "text/latex": "$\\displaystyle \\operatorname{Poly}{\\left( x^{3} + 2 x^{2} + x - 1, x, domain=\\mathbb{F}_{8} \\right)}$"
     },
     "metadata": {},
     "output_type": "display_data"
    },
    {
     "data": {
      "text/plain": "'Полином h2'"
     },
     "metadata": {},
     "output_type": "display_data"
    },
    {
     "data": {
      "text/plain": "Poly(x**2 - 3, x, modulus=8)",
      "image/png": "[encoded data removed]",
      "text/latex": "$\\displaystyle \\operatorname{Poly}{\\left( x^{2} - 3, x, domain=\\mathbb{F}_{8} \\right)}$"
     },
     "metadata": {},
     "output_type": "display_data"
    },
    {
     "data": {
      "text/plain": "'Проверка:'"
     },
     "metadata": {},
     "output_type": "display_data"
    },
    {
     "data": {
      "text/plain": "Poly(x**5 + 2*x**4 - 2*x**3 + x**2 - 3*x + 3, x, modulus=8)",
      "image/png": "[encoded data removed]",
      "text/latex": "$\\displaystyle \\operatorname{Poly}{\\left( x^{5} + 2 x^{4} - 2 x^{3} + x^{2} - 3 x + 3, x, domain=\\mathbb{F}_{8} \\right)}$"
     },
     "metadata": {},
     "output_type": "display_data"
    }
   ],
   "source": [
    "rem = 0\n",
    "m, n = p, r\n",
    "k = 0\n",
    "k_arr=[]\n",
    "d_arr=[poly(1,x, domain=GF(dom, symmetric=False)),poly(0,x, domain=GF(dom, symmetric=False))]\n",
    "t_arr=[poly(0,x, domain=GF(dom, symmetric=False)), poly(1,x, domain=GF(dom, symmetric=False))]\n",
    "# реализация алгоритма евклида\n",
    "while 1 != rem:\n",
    "    k, rem = pdiv(m, n, domain= GF(2))\n",
    "    m = n\n",
    "    n = rem\n",
    "    k_arr.append(k)\n",
    "while len(k_arr)!=0:\n",
    "        d_arr.append(d_arr[0] + d_arr[1] * k_arr[0])\n",
    "        t_arr.append(t_arr[0] + t_arr[1] * k_arr[0])\n",
    "        d_arr.pop(0)\n",
    "        t_arr.pop(0)\n",
    "        k_arr.pop(0)\n",
    "d = d_arr[-1]*s\n",
    "t = t_arr[-1]*s\n",
    "q = div(d,r)\n",
    "q = q[0]\n",
    "d = d + q * r\n",
    "t = t + q * p\n",
    "display(\"Упрощенные частные решения дифантова уравнения:\")\n",
    "display(\"Полином d\")\n",
    "display(d)\n",
    "display(\"Полином t\")\n",
    "display(t)\n",
    "display(\"Полином g2\")\n",
    "g_1 = poly(g, domain=GF(dom, symmetric=False))+poly(d, domain=GF(dom, symmetric=False))*poly(2,x, domain=GF(dom*2, symmetric=False))\n",
    "display(g_1)\n",
    "display(\"Полином h2\")\n",
    "h_1 = poly(h, domain=GF(dom, symmetric=False))+poly(t, domain=GF(dom, symmetric=False))*poly(2,x, domain=GF(dom*2, symmetric=False))\n",
    "display(h_1)\n",
    "display(\"Проверка:\")\n",
    "display(g_1*h_1)"
   ]
  },
  {
   "cell_type": "code",
   "execution_count": 34,
   "outputs": [
    {
     "data": {
      "text/plain": "'Подъем до Z[16]'"
     },
     "metadata": {},
     "output_type": "display_data"
    },
    {
     "data": {
      "text/plain": "'Полином g2'"
     },
     "metadata": {},
     "output_type": "display_data"
    },
    {
     "data": {
      "text/plain": "Poly(x**3 + 2*x**2 + x + 7, x, modulus=8)",
      "image/png": "[encoded data removed]",
      "text/latex": "$\\displaystyle \\operatorname{Poly}{\\left( x^{3} + 2 x^{2} + x + 7, x, domain=\\mathbb{F}_{8} \\right)}$"
     },
     "metadata": {},
     "output_type": "display_data"
    },
    {
     "data": {
      "text/plain": "'Полином h2'"
     },
     "metadata": {},
     "output_type": "display_data"
    },
    {
     "data": {
      "text/plain": "Poly(x**2 + 5, x, modulus=8)",
      "image/png": "[encoded data removed]",
      "text/latex": "$\\displaystyle \\operatorname{Poly}{\\left( x^{2} + 5, x, domain=\\mathbb{F}_{8} \\right)}$"
     },
     "metadata": {},
     "output_type": "display_data"
    },
    {
     "data": {
      "text/plain": "'Полином f:'"
     },
     "metadata": {},
     "output_type": "display_data"
    },
    {
     "data": {
      "text/plain": "Poly(x**5 + 2*x**4 + 14*x**3 + 9*x**2 + 13*x + 11, x, modulus=16)",
      "image/png": "[encoded data removed]",
      "text/latex": "$\\displaystyle \\operatorname{Poly}{\\left( x^{5} + 2 x^{4} + 14 x^{3} + 9 x^{2} + 13 x + 11, x, domain=\\mathbb{F}_{16} \\right)}$"
     },
     "metadata": {},
     "output_type": "display_data"
    },
    {
     "data": {
      "text/plain": "'Полином s:'"
     },
     "metadata": {},
     "output_type": "display_data"
    },
    {
     "data": {
      "text/plain": "Poly(x**5 + 2*x**4 + 6*x**3 + x**2 + 5*x + 3, x, modulus=16)",
      "image/png": "[encoded data removed]",
      "text/latex": "$\\displaystyle \\operatorname{Poly}{\\left( x^{5} + 2 x^{4} + 6 x^{3} + x^{2} + 5 x + 3, x, domain=\\mathbb{F}_{16} \\right)}$"
     },
     "metadata": {},
     "output_type": "display_data"
    },
    {
     "data": {
      "text/plain": "'Полином f - s // 2'"
     },
     "metadata": {},
     "output_type": "display_data"
    },
    {
     "data": {
      "text/plain": "Poly(4*x**3 + 4*x**2 + 4*x + 4, x, modulus=8)",
      "image/png": "[encoded data removed]",
      "text/latex": "$\\displaystyle \\operatorname{Poly}{\\left( 4 x^{3} + 4 x^{2} + 4 x + 4, x, domain=\\mathbb{F}_{8} \\right)}$"
     },
     "metadata": {},
     "output_type": "display_data"
    }
   ],
   "source": [
    "display(\"Подъем до Z[16]\")\n",
    "dom *= 2\n",
    "g = poly(g, domain=GF(dom, symmetric=False))+poly(d, domain=GF(dom, symmetric=False))*poly(2,x, domain=GF(dom, symmetric=False))\n",
    "display(\"Полином g2\")\n",
    "display(g)\n",
    "h = poly(h, domain=GF(dom, symmetric=False))+poly(t, domain=GF(dom, symmetric=False))*poly(2,x, domain=GF(dom, symmetric=False))\n",
    "display(\"Полином h2\")\n",
    "display(h)\n",
    "p = h\n",
    "r = g\n",
    "f = poly(start, domain = GF(dom*2, symmetric=False))\n",
    "display(\"Полином f:\")\n",
    "display(f)\n",
    "s = poly(p, domain=GF(dom*2, symmetric=False))*poly(r, domain=GF(dom*2, symmetric=False))\n",
    "display(\"Полином s:\")\n",
    "display(s)\n",
    "s = poly((f-s)//2, domain = GF(dom, symmetric=False))\n",
    "display(\"Полином f - s // 2\")\n",
    "display(s)"
   ],
   "metadata": {
    "collapsed": false,
    "pycharm": {
     "name": "#%%\n"
    }
   }
  },
  {
   "cell_type": "code",
   "execution_count": 35,
   "outputs": [
    {
     "data": {
      "text/plain": "'Упрощенные частные решения дифантова уравнения:'"
     },
     "metadata": {},
     "output_type": "display_data"
    },
    {
     "data": {
      "text/plain": "'Полином d'"
     },
     "metadata": {},
     "output_type": "display_data"
    },
    {
     "data": {
      "text/plain": "Poly(4*x + 4, x, modulus=8)",
      "image/png": "[encoded data removed]",
      "text/latex": "$\\displaystyle \\operatorname{Poly}{\\left( 4 x + 4, x, domain=\\mathbb{F}_{8} \\right)}$"
     },
     "metadata": {},
     "output_type": "display_data"
    },
    {
     "data": {
      "text/plain": "'Полином t'"
     },
     "metadata": {},
     "output_type": "display_data"
    },
    {
     "data": {
      "text/plain": "Poly(0, x, modulus=8)",
      "image/png": "[encoded data removed]",
      "text/latex": "$\\displaystyle \\operatorname{Poly}{\\left( 0, x, domain=\\mathbb{F}_{8} \\right)}$"
     },
     "metadata": {},
     "output_type": "display_data"
    },
    {
     "data": {
      "text/plain": "'Полином g2'"
     },
     "metadata": {},
     "output_type": "display_data"
    },
    {
     "data": {
      "text/plain": "Poly(x**3 + 2*x**2 - 7*x - 1, x, modulus=16)",
      "image/png": "[encoded data removed]",
      "text/latex": "$\\displaystyle \\operatorname{Poly}{\\left( x^{3} + 2 x^{2} - 7 x - 1, x, domain=\\mathbb{F}_{16} \\right)}$"
     },
     "metadata": {},
     "output_type": "display_data"
    },
    {
     "data": {
      "text/plain": "'Полином h2'"
     },
     "metadata": {},
     "output_type": "display_data"
    },
    {
     "data": {
      "text/plain": "Poly(x**2 + 5, x, modulus=16)",
      "image/png": "[encoded data removed]",
      "text/latex": "$\\displaystyle \\operatorname{Poly}{\\left( x^{2} + 5, x, domain=\\mathbb{F}_{16} \\right)}$"
     },
     "metadata": {},
     "output_type": "display_data"
    },
    {
     "data": {
      "text/plain": "'Проверка:'"
     },
     "metadata": {},
     "output_type": "display_data"
    },
    {
     "data": {
      "text/plain": "Poly(x**5 + 2*x**4 - 2*x**3 - 7*x**2 - 3*x - 5, x, modulus=16)",
      "image/png": "[encoded data removed]",
      "text/latex": "$\\displaystyle \\operatorname{Poly}{\\left( x^{5} + 2 x^{4} - 2 x^{3} - 7 x^{2} - 3 x - 5, x, domain=\\mathbb{F}_{16} \\right)}$"
     },
     "metadata": {},
     "output_type": "display_data"
    }
   ],
   "source": [
    "rem = 0\n",
    "m, n = p, r\n",
    "k = 0\n",
    "k_arr=[]\n",
    "d_arr=[poly(1,x, domain=GF(dom, symmetric=False)),poly(0,x, domain=GF(dom, symmetric=False))]\n",
    "t_arr=[poly(0,x, domain=GF(dom, symmetric=False)), poly(1,x, domain=GF(dom, symmetric=False))]\n",
    "# реализация алгоритма евклида\n",
    "while 1 != rem:\n",
    "    k, rem = pdiv(m, n, domain= GF(2))\n",
    "    m = n\n",
    "    n = rem\n",
    "    k_arr.append(k)\n",
    "\n",
    "while len(k_arr)!=0:\n",
    "        d_arr.append(d_arr[0] + d_arr[1] * k_arr[0])\n",
    "        t_arr.append(t_arr[0] + t_arr[1] * k_arr[0])\n",
    "        d_arr.pop(0)\n",
    "        t_arr.pop(0)\n",
    "        k_arr.pop(0)\n",
    "d = d_arr[-1]*s\n",
    "t = t_arr[-1]*s\n",
    "q = div(d,r)\n",
    "q = q[0]\n",
    "d = d + q * r\n",
    "t = t + q * p\n",
    "display(\"Упрощенные частные решения дифантова уравнения:\")\n",
    "display(\"Полином d\")\n",
    "display(d)\n",
    "display(\"Полином t\")\n",
    "display(t)\n",
    "display(\"Полином g2\")\n",
    "g_1 = poly(g, domain=GF(dom, symmetric=False))+poly(d, domain=GF(dom, symmetric=False))*poly(2,x, domain=GF(dom*2, symmetric=False))\n",
    "display(g_1)\n",
    "display(\"Полином h2\")\n",
    "h_1 = poly(h, domain=GF(dom, symmetric=False))+poly(t, domain=GF(dom, symmetric=False))*poly(2,x, domain=GF(dom*2, symmetric=False))\n",
    "display(h_1)\n",
    "display(\"Проверка:\")\n",
    "display(g_1*h_1)"
   ],
   "metadata": {
    "collapsed": false,
    "pycharm": {
     "name": "#%%\n"
    }
   }
  },
  {
   "cell_type": "code",
   "execution_count": 10,
   "outputs": [
    {
     "data": {
      "text/plain": "(1, [(Poly(x**2 + 5, x, domain='ZZ'), 1), (Poly(x**3 + 2*x**2 - 7*x - 1, x, do\nmain='ZZ'), 1)])",
      "image/png": "[encoded data removed]",
      "text/latex": "$\\displaystyle \\left( 1, \\  \\left[ \\left( \\operatorname{Poly}{\\left( x^{2} + 5, x, domain=\\mathbb{Z} \\right)}, \\  1\\right), \\  \\left( \\operatorname{Poly}{\\left( x^{3} + 2 x^{2} - 7 x - 1, x, domain=\\mathbb{Z} \\right)}, \\  1\\right)\\right]\\right)$"
     },
     "execution_count": 10,
     "metadata": {},
     "output_type": "execute_result"
    }
   ],
   "source": [
    "factor_list(poly(x**5+2*x**4-2*x**3+9*x**2-35*x-5))"
   ],
   "metadata": {
    "collapsed": false,
    "pycharm": {
     "name": "#%%\n"
    }
   }
  },
  {
   "cell_type": "code",
   "execution_count": null,
   "outputs": [],
   "source": [],
   "metadata": {
    "collapsed": false,
    "pycharm": {
     "name": "#%%\n"
    }
   }
  }
 ],
 "metadata": {
  "kernelspec": {
   "display_name": "Python 3",
   "language": "python",
   "name": "python3"
  },
  "language_info": {
   "codemirror_mode": {
    "name": "ipython",
    "version": 3
   },
   "file_extension": ".py",
   "mimetype": "text/x-python",
   "name": "python",
   "nbconvert_exporter": "python",
   "pygments_lexer": "ipython3",
   "version": "3.7.3"
  }
 },
 "nbformat": 4,
 "nbformat_minor": 4
}