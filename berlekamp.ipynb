{
 "cells": [
  {
   "cell_type": "code",
   "execution_count": 45,
   "metadata": {},
   "outputs": [],
   "source": [
    "from IPython.core.display import display\n",
    "from sympy import pdiv, div, poly, degree, Poly\n",
    "from sympy.abc import x,y\n",
    "from sympy import ZZ, GF\n",
    "from sympy.solvers import solve\n",
    "from sympy import Symbol\n",
    "from sympy.solvers.diophantine import diophantine\n",
    "from sympy.matrices import Matrix, eye, zeros, ones, diag, GramSchmidt\n",
    "from sympy.matrices.dense import casoratian\n",
    "from sympy.matrices.matrices import _iszero, _find_reasonable_pivot, _simplify\n",
    "from  sympy import gcd"
   ]
  },
  {
   "cell_type": "code",
   "execution_count": 2,
   "metadata": {},
   "outputs": [],
   "source": [
    "# start=poly(x**5+2*x**4-2*x**3+9*x**2-35*x-5)\n",
    "# dom = 2"
   ]
  },
  {
   "cell_type": "code",
   "execution_count": 3,
   "metadata": {},
   "outputs": [],
   "source": [
    "p = 7\n",
    "m = poly(x**4+3*x-2, domain=GF(p, symmetric=False))\n",
    "g = poly(2*x**3+3*x**2-4*x+5, domain=GF(p, symmetric=False))"
   ]
  },
  {
   "cell_type": "code",
   "execution_count": 4,
   "metadata": {},
   "outputs": [],
   "source": [
    "del g\n"
   ]
  },
  {
   "cell_type": "code",
   "execution_count": 5,
   "metadata": {},
   "outputs": [],
   "source": [
    "# p = 7\n",
    "m = poly(x**4+3*x-2, domain=GF(p, symmetric=False))\n"
   ]
  },
  {
   "cell_type": "code",
   "execution_count": 6,
   "metadata": {},
   "outputs": [
    {
     "name": "stdout",
     "output_type": "stream",
     "text": [
      "[Poly(6, x, modulus=7), Poly(6, x, modulus=7), Poly(2, x, modulus=7), Poly(0, x, modulus=7), Poly(1, x, modulus=7), Poly(4, x, modulus=7), Poly(0, x, modulus=7), Poly(0, x, modulus=7), Poly(6, x, modulus=7), Poly(1, x, modulus=7), Poly(1, x, modulus=7), Poly(0, x, modulus=7), Poly(3, x, modulus=7), Poly(3, x, modulus=7), Poly(1, x, modulus=7), Poly(0, x, modulus=7)]\n"
     ]
    },
    {
     "data": {
      "text/plain": "Matrix([\n[Poly(6, x, modulus=7), Poly(6, x, modulus=7), Poly(2, x, modulus=7), Poly(0, x, modulus=7)],\n[Poly(1, x, modulus=7), Poly(4, x, modulus=7), Poly(0, x, modulus=7), Poly(0, x, modulus=7)],\n[Poly(6, x, modulus=7), Poly(1, x, modulus=7), Poly(1, x, modulus=7), Poly(0, x, modulus=7)],\n[Poly(3, x, modulus=7), Poly(3, x, modulus=7), Poly(1, x, modulus=7), Poly(0, x, modulus=7)]])",
      "text/latex": "$\\displaystyle \\left[\\begin{matrix}\\operatorname{Poly}{\\left( 6, x, domain=\\mathbb{F}_{7} \\right)} & \\operatorname{Poly}{\\left( 6, x, domain=\\mathbb{F}_{7} \\right)} & \\operatorname{Poly}{\\left( 2, x, domain=\\mathbb{F}_{7} \\right)} & \\operatorname{Poly}{\\left( 0, x, domain=\\mathbb{F}_{7} \\right)}\\\\\\operatorname{Poly}{\\left( 1, x, domain=\\mathbb{F}_{7} \\right)} & \\operatorname{Poly}{\\left( 4, x, domain=\\mathbb{F}_{7} \\right)} & \\operatorname{Poly}{\\left( 0, x, domain=\\mathbb{F}_{7} \\right)} & \\operatorname{Poly}{\\left( 0, x, domain=\\mathbb{F}_{7} \\right)}\\\\\\operatorname{Poly}{\\left( 6, x, domain=\\mathbb{F}_{7} \\right)} & \\operatorname{Poly}{\\left( 1, x, domain=\\mathbb{F}_{7} \\right)} & \\operatorname{Poly}{\\left( 1, x, domain=\\mathbb{F}_{7} \\right)} & \\operatorname{Poly}{\\left( 0, x, domain=\\mathbb{F}_{7} \\right)}\\\\\\operatorname{Poly}{\\left( 3, x, domain=\\mathbb{F}_{7} \\right)} & \\operatorname{Poly}{\\left( 3, x, domain=\\mathbb{F}_{7} \\right)} & \\operatorname{Poly}{\\left( 1, x, domain=\\mathbb{F}_{7} \\right)} & \\operatorname{Poly}{\\left( 0, x, domain=\\mathbb{F}_{7} \\right)}\\end{matrix}\\right]$"
     },
     "execution_count": 6,
     "metadata": {},
     "output_type": "execute_result"
    }
   ],
   "source": [
    "arr = []\n",
    "for i in range(0, m.degree() ):\n",
    "    h = poly(x**(p*i),x, domain=GF(p, symmetric=False))\n",
    "    r = h % m\n",
    "    #print(r)\n",
    "    new_arr = r.all_coeffs()\n",
    "    arr.append([0]*(m.degree()-len(new_arr)))\n",
    "    arr[i].extend(new_arr)\n",
    "#print(arr)\n",
    "arr=Matrix(arr[::-1]).transpose()-eye(4)\n",
    "#print(arr)\n",
    "arr=list(arr)\n",
    "for i in range(0, len(arr)):\n",
    "        arr[i] = poly(arr[i],x, domain=GF(p, symmetric=False))\n",
    "print(arr)\n",
    "arr = Matrix(4,4, arr)\n",
    "arr\n",
    "#list(arr)"
   ]
  },
  {
   "cell_type": "code",
   "execution_count": 22,
   "metadata": {},
   "outputs": [
    {
     "name": "stdout",
     "output_type": "stream",
     "text": [
      "[Poly(1, x, modulus=7), Poly(0, x, modulus=7), Poly(2, x, modulus=7), Poly(0, x, modulus=7), Poly(0, x, modulus=7), Poly(1, x, modulus=3), Poly(3, x, modulus=7), Poly(0, x, modulus=7), Poly(0, x, modulus=7), Poly(0, x, modulus=7), Poly(0, x, modulus=7), Poly(0, x, modulus=7), Poly(0, x, modulus=7), Poly(0, x, modulus=7), Poly(0, x, modulus=7), Poly(0, x, modulus=7)]\n"
     ]
    },
    {
     "data": {
      "text/plain": "[Matrix([\n [Poly(5, x, modulus=7)],\n [Poly(4, x, modulus=7)],\n [Poly(1, x, modulus=7)],\n [Poly(0, x, modulus=7)]]),\n Matrix([\n [Poly(0, x, modulus=7)],\n [Poly(0, x, modulus=7)],\n [Poly(0, x, modulus=7)],\n [Poly(1, x, modulus=7)]])]"
     },
     "execution_count": 22,
     "metadata": {},
     "output_type": "execute_result"
    }
   ],
   "source": [
    "#алгоритм нахождения ядра\n",
    "rows, cols = arr.rows, arr.cols\n",
    "mat = list(arr)\n",
    "iszerofunc = _iszero\n",
    "simpfunc = _simplify\n",
    "zero_above = True\n",
    "def get_col(i):\n",
    "    return mat[i::cols]\n",
    "\n",
    "def row_swap(i, j):\n",
    "    mat[i*cols:(i + 1)*cols], mat[j*cols:(j + 1)*cols] = \\\n",
    "        mat[j*cols:(j + 1)*cols], mat[i*cols:(i + 1)*cols]\n",
    "\n",
    "def cross_cancel(a, i, b, j):\n",
    "    \"\"\"Does the row op row[i] = a*row[i] - b*row[j]\"\"\"\n",
    "    q = (j - i)*cols\n",
    "    for p in range(i*cols, (i + 1)*cols):\n",
    "        mat[p] = a*mat[p] - b*mat[p + q]\n",
    "piv_row, piv_col = 0, 0\n",
    "pivot_cols = []\n",
    "swaps = []\n",
    "while piv_col < cols and piv_row < rows:\n",
    "    pivot_offset, pivot_val, \\\n",
    "    assumed_nonzero, newly_determined = _find_reasonable_pivot(\n",
    "        get_col(piv_col)[piv_row:], iszerofunc, simpfunc)\n",
    "\n",
    "    # _find_reasonable_pivot may have simplified some things\n",
    "    # in the process.  Let's not let them go to waste\n",
    "    for (offset, val) in newly_determined:\n",
    "        offset += piv_row\n",
    "        mat[offset*cols + piv_col] = val\n",
    "\n",
    "    if pivot_offset is None:\n",
    "        piv_col += 1\n",
    "        continue\n",
    "\n",
    "    pivot_cols.append(piv_col)\n",
    "    if pivot_offset != 0:\n",
    "        row_swap(piv_row, pivot_offset + piv_row)\n",
    "        swaps.append((piv_row, pivot_offset + piv_row))\n",
    "\n",
    "    # if we aren't normalizing last, we normalize\n",
    "    # before we zero the other rows\n",
    "   \n",
    "\n",
    "    # zero above and below the pivot\n",
    "    for row in range(rows):\n",
    "        # don't zero our current row\n",
    "        if row == piv_row:\n",
    "            continue\n",
    "        # don't zero above the pivot unless we're told.\n",
    "        if zero_above is False and row < piv_row:\n",
    "            continue\n",
    "        # if we're already a zero, don't do anything\n",
    "        val = mat[row*cols + piv_col]\n",
    "        if iszerofunc(val):\n",
    "            continue\n",
    "\n",
    "        cross_cancel(pivot_val, row, val, piv_row)\n",
    "    piv_row += 1\n",
    "#poly(1,x, domain=GF(p, symmetric=False))\n",
    "#if normalize_last is True and normalize is True:\n",
    "for piv_i, piv_j in enumerate(pivot_cols):\n",
    "    pivot_val = mat[piv_i*cols + piv_j]\n",
    "    mat[piv_i*cols + piv_j] = poly(1,x, domain=GF(p, symmetric=False))\n",
    "    for p in range(piv_i*cols + piv_j + 1, (piv_i + 1)*cols):\n",
    "        mat[p] = div(mat[p], pivot_val)[0]\n",
    "print(mat)\n",
    "q=Matrix(rows, cols, mat)\n",
    "pivots= tuple(pivot_cols)\n",
    "reduced = q\n",
    "free_vars = [i for i in range(q.cols) if i not in pivots]\n",
    "\n",
    "basis = []\n",
    "for free_var in free_vars:\n",
    "    # for each free variable, we will set it to 1 and all others\n",
    "    # to 0.  Then, we will use back substitution to solve the system\n",
    "    vec = [poly(0,x, domain=GF(p, symmetric=False))]*q.cols\n",
    "    vec[free_var] = poly(1,x, domain=GF(p, symmetric=False))\n",
    "    for piv_row, piv_col in enumerate(pivots):\n",
    "        vec[piv_col] -= reduced[piv_row, free_var]\n",
    "    basis.append(vec)\n",
    "kernel = [Matrix(q.cols, 1, b) for b in basis]\n",
    "kernel"
   ]
  },
  {
   "cell_type": "code",
   "execution_count": 38,
   "metadata": {},
   "outputs": [],
   "source": [
    "numeric_coef = list()\n",
    "for i in kernel[0]:\n",
    "    numeric_coef.append(i.LC())\n"
   ]
  },
  {
   "cell_type": "code",
   "execution_count": 51,
   "metadata": {},
   "outputs": [
    {
     "data": {
      "text/plain": "Poly(x**4 + 3*x + 5, x, modulus=7)",
      "text/latex": "$\\displaystyle \\operatorname{Poly}{\\left( x^{4} + 3 x + 5, x, domain=\\mathbb{F}_{7} \\right)}$"
     },
     "metadata": {},
     "output_type": "display_data"
    },
    {
     "data": {
      "text/plain": "Poly(-2*x**3 - 3*x**2 + x, x, domain='ZZ')",
      "text/latex": "$\\displaystyle \\operatorname{Poly}{\\left( -2 x^{3} - 3 x^{2} + x, x, domain=\\mathbb{Z} \\right)}$"
     },
     "metadata": {},
     "output_type": "display_data"
    },
    {
     "data": {
      "text/plain": "Poly(1, x, modulus=7)",
      "text/latex": "$\\displaystyle \\operatorname{Poly}{\\left( 1, x, domain=\\mathbb{F}_{7} \\right)}$"
     },
     "metadata": {},
     "output_type": "display_data"
    },
    {
     "data": {
      "text/plain": "Poly(1, x, modulus=7)",
      "text/latex": "$\\displaystyle \\operatorname{Poly}{\\left( 1, x, domain=\\mathbb{F}_{7} \\right)}$"
     },
     "metadata": {},
     "output_type": "display_data"
    },
    {
     "data": {
      "text/plain": "Poly(1, x, modulus=7)",
      "text/latex": "$\\displaystyle \\operatorname{Poly}{\\left( 1, x, domain=\\mathbb{F}_{7} \\right)}$"
     },
     "metadata": {},
     "output_type": "display_data"
    },
    {
     "data": {
      "text/plain": "Poly(x**2 + 6*x + 2, x, modulus=7)",
      "text/latex": "$\\displaystyle \\operatorname{Poly}{\\left( x^{2} + 6 x + 2, x, domain=\\mathbb{F}_{7} \\right)}$"
     },
     "metadata": {},
     "output_type": "display_data"
    },
    {
     "data": {
      "text/plain": "Poly(1, x, modulus=7)",
      "text/latex": "$\\displaystyle \\operatorname{Poly}{\\left( 1, x, domain=\\mathbb{F}_{7} \\right)}$"
     },
     "metadata": {},
     "output_type": "display_data"
    },
    {
     "data": {
      "text/plain": "Poly(1, x, modulus=7)",
      "text/latex": "$\\displaystyle \\operatorname{Poly}{\\left( 1, x, domain=\\mathbb{F}_{7} \\right)}$"
     },
     "metadata": {},
     "output_type": "display_data"
    },
    {
     "data": {
      "text/plain": "Poly(x**2 + x + 6, x, modulus=7)",
      "text/latex": "$\\displaystyle \\operatorname{Poly}{\\left( x^{2} + x + 6, x, domain=\\mathbb{F}_{7} \\right)}$"
     },
     "metadata": {},
     "output_type": "display_data"
    },
    {
     "data": {
      "text/plain": "Poly(1, x, modulus=7)",
      "text/latex": "$\\displaystyle \\operatorname{Poly}{\\left( 1, x, domain=\\mathbb{F}_{7} \\right)}$"
     },
     "metadata": {},
     "output_type": "display_data"
    }
   ],
   "source": [
    "t = Poly(numeric_coef, x, domain = GF(7))\n",
    "display(m)\n",
    "display(t - 0)\n",
    "for i in range(0, 8):\n",
    "    display(gcd(t - Poly(i, x,domain = GF(7)), m))"
   ]
  },
  {
   "cell_type": "code",
   "execution_count": null,
   "metadata": {},
   "outputs": [],
   "source": []
  },
  {
   "cell_type": "code",
   "execution_count": null,
   "metadata": {},
   "outputs": [],
   "source": []
  },
  {
   "cell_type": "code",
   "execution_count": null,
   "metadata": {},
   "outputs": [],
   "source": []
  },
  {
   "cell_type": "code",
   "execution_count": null,
   "metadata": {},
   "outputs": [],
   "source": []
  },
  {
   "cell_type": "code",
   "execution_count": 72,
   "metadata": {},
   "outputs": [],
   "source": []
  },
  {
   "cell_type": "code",
   "execution_count": null,
   "metadata": {},
   "outputs": [],
   "source": []
  },
  {
   "cell_type": "code",
   "execution_count": null,
   "metadata": {},
   "outputs": [],
   "source": []
  },
  {
   "cell_type": "code",
   "execution_count": null,
   "metadata": {},
   "outputs": [],
   "source": []
  },
  {
   "cell_type": "code",
   "execution_count": null,
   "metadata": {},
   "outputs": [],
   "source": []
  },
  {
   "cell_type": "code",
   "execution_count": null,
   "metadata": {},
   "outputs": [],
   "source": []
  },
  {
   "cell_type": "code",
   "execution_count": null,
   "metadata": {},
   "outputs": [],
   "source": []
  },
  {
   "cell_type": "code",
   "execution_count": null,
   "metadata": {},
   "outputs": [],
   "source": []
  },
  {
   "cell_type": "code",
   "execution_count": null,
   "metadata": {},
   "outputs": [],
   "source": []
  },
  {
   "cell_type": "code",
   "execution_count": 171,
   "metadata": {},
   "outputs": [
    {
     "data": {
      "text/plain": [
       "(Poly(-3, x, modulus=7), Poly(0, x, modulus=7))"
      ]
     },
     "execution_count": 171,
     "metadata": {},
     "output_type": "execute_result"
    }
   ],
   "source": []
  },
  {
   "cell_type": "code",
   "execution_count": 179,
   "metadata": {},
   "outputs": [
    {
     "data": {
      "text/latex": [
       "$\\displaystyle \\left[\\begin{matrix}-2\\\\-3\\\\1\\\\0\\end{matrix}\\right]$"
      ],
      "text/plain": [
       "Matrix([\n",
       "[-2],\n",
       "[-3],\n",
       "[ 1],\n",
       "[ 0]])"
      ]
     },
     "execution_count": 179,
     "metadata": {},
     "output_type": "execute_result"
    }
   ],
   "source": [
    "c=q.nullspace()[0]\n",
    "#c=Matrix([1,-2,-4,0])\n",
    "c"
   ]
  },
  {
   "cell_type": "code",
   "execution_count": 180,
   "metadata": {},
   "outputs": [
    {
     "data": {
      "text/latex": [
       "$\\displaystyle \\left[\\begin{matrix}7\\\\-14\\\\0\\\\0\\end{matrix}\\right]$"
      ],
      "text/plain": [
       "Matrix([\n",
       "[  7],\n",
       "[-14],\n",
       "[  0],\n",
       "[  0]])"
      ]
     },
     "execution_count": 180,
     "metadata": {},
     "output_type": "execute_result"
    }
   ],
   "source": [
    "a*c"
   ]
  },
  {
   "cell_type": "code",
   "execution_count": null,
   "metadata": {},
   "outputs": [],
   "source": []
  },
  {
   "cell_type": "code",
   "execution_count": null,
   "metadata": {},
   "outputs": [],
   "source": []
  },
  {
   "cell_type": "code",
   "execution_count": null,
   "metadata": {},
   "outputs": [],
   "source": []
  }
 ],
 "metadata": {
  "kernelspec": {
   "display_name": "Python 3",
   "language": "python",
   "name": "python3"
  },
  "language_info": {
   "codemirror_mode": {
    "name": "ipython",
    "version": 3
   },
   "file_extension": ".py",
   "mimetype": "text/x-python",
   "name": "python",
   "nbconvert_exporter": "python",
   "pygments_lexer": "ipython3",
   "version": "3.8.3"
  }
 },
 "nbformat": 4,
 "nbformat_minor": 4
}