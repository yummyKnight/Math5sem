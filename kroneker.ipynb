{
 "cells": [
  {
   "cell_type": "code",
   "execution_count": 1,
   "metadata": {},
   "outputs": [
    {
     "name": "stdout",
     "output_type": "stream",
     "text": [
      "IPython console for SymPy 1.6.2 (Python 3.7.3-64-bit) (ground types: python)\n",
      "\n",
      "These commands were executed:\n",
      ">>> from __future__ import division\n",
      ">>> from sympy import *\n",
      ">>> x, y, z, t = symbols('x y z t')\n",
      ">>> k, m, n = symbols('k m n', integer=True)\n",
      ">>> f, g, h = symbols('f g h', cls=Function)\n",
      ">>> init_printing()\n",
      "\n",
      "Documentation can be found at https://docs.sympy.org/1.6.2/\n",
      "\n"
     ]
    }
   ],
   "source": [
    "from numpy import poly1d\n",
    "from sympy import init_session\n",
    "import numpy as np\n",
    "from scipy.interpolate import lagrange\n",
    "from numpy.polynomial.polynomial import Polynomial\n",
    "init_session()\n",
    "from tqdm import tqdm\n",
    "from IPython.display import display\n",
    "from itertools import product"
   ]
  },
  {
   "cell_type": "code",
   "execution_count": 35,
   "metadata": {
    "pycharm": {
     "name": "#%%\n"
    }
   },
   "outputs": [],
   "source": [
    "from sympy import *"
   ]
  },
  {
   "cell_type": "code",
   "execution_count": 2,
   "metadata": {
    "pycharm": {
     "name": "#%%\n"
    }
   },
   "outputs": [],
   "source": [
    "def get_factor(number: int):\n",
    "    factors = list(factorint(number).keys())\n",
    "    factors.append(number)\n",
    "    factors.append(1)\n",
    "    factors.append(-1)\n",
    "    factors.extend([-x for x in factors.copy()])\n",
    "    return np.unique(np.array(factors))\n",
    "\n",
    "def lagrange_for_integers(x, w):\n",
    "    M = len(x)\n",
    "    p = poly1d(np.int32(0))\n",
    "    for j in range(M):\n",
    "        pt = poly1d(w[j])\n",
    "        for k in range(M):\n",
    "            if k == j:\n",
    "                continue\n",
    "            fac = x[j]-x[k]\n",
    "            if x[k] % fac == 0:\n",
    "                pt *= poly1d([1, -x[k]]) / fac\n",
    "            else:\n",
    "                return None\n",
    "        p += pt\n",
    "    return p"
   ]
  },
  {
   "cell_type": "code",
   "execution_count": null,
   "metadata": {
    "pycharm": {
     "name": "#%%\n"
    },
    "scrolled": true
   },
   "outputs": [],
   "source": [
    "x, y, z, t = symbols('x y z t')\n",
    "# исходный полином\n",
    "# X = Poly(x ** 5 - x ** 4 - 2 * x ** 3 - 8 * x ** 2 + 6 * x - 1)\n",
    "# X = Poly(random_poly(x, 10, 0, 2), x)\n",
    "X = Poly(x ** 4 + x ** 3 + x ** 2 - x - 2)\n",
    "display(\"Исходный полином\")\n",
    "display(X)\n",
    "n = degree(X) // 2\n",
    "# вектор точек, в которых необходимо\n",
    "R = np.array(range(0,n+1))\n",
    "# вектор делителей\n",
    "factors = list()\n",
    "# раскладываем множество делителей X (i), где i это число это от 0 до n\n",
    "for i in tqdm(range(0, n+1)):\n",
    "    t = X(i)\n",
    "    factors.append(get_factor(t))\n",
    "    factors[i].sort()\n",
    "factors_len = 1\n",
    "# считаем число вариантов которые необходимо перебрать\n",
    "for f in factors:\n",
    "    factors_len = f.shape[0] * factors_len\n",
    "# и делим его на 2 чтобы не перебирать лишние комбинации\n",
    "factors_len = factors_len // 2\n",
    "print(factors_len)\n",
    "# выполняем прямое произведение между членами вектора факторов\n",
    "ys = product(*factors)\n",
    "# и начинаем перебор\n",
    "for i, y_i in tqdm(enumerate(ys), total=factors_len):\n",
    "    # интерполяция по Лагранжу\n",
    "    k = lagrange_for_integers(R, y_i)\n",
    "    if k is None:\n",
    "        continue\n",
    "    LC = k.c[0]\n",
    "    k = k / LC\n",
    "    k = k.c.astype(np.int32)\n",
    "    buf_poly = Poly(k, x, domain = ZZ)\n",
    "    if degree(buf_poly) > 0:\n",
    "        # если исходный полином делиться на интерполяционный без остатка то выводим его\n",
    "        quo, rem =  X.div(buf_poly)\n",
    "        # print(rem)\n",
    "        if rem == 0:\n",
    "            # сделать чтобы не было рациональных + рекурсивное разложение\n",
    "            display(\"Интерполяционный полином:\")\n",
    "            display(buf_poly)\n",
    "            display(\"Результат деления исходного на интерполяционный:\")\n",
    "            display(quo)\n",
    "            display(\"Проверка:\")\n",
    "            display(quo * buf_poly)\n",
    "            display(\"-------------------------\")\n",
    "    if i >= factors_len:\n",
    "        break"
   ]
  },
  {
   "cell_type": "code",
   "execution_count": 81,
   "outputs": [],
   "source": [
    "def kroneker(queue_ : list, r : bool = False):\n",
    "    X = queue_.pop()\n",
    "    res = list()\n",
    "    n = degree(X) // 2 # вектор точек, в которых необходимо\n",
    "    R = np.array(range(0,n+1))     # вектор делителей\n",
    "    factors = list()\n",
    "    factors_deg = set()\n",
    "    display(\"--------------------------------------\")\n",
    "    display(\"Исходный полином\")\n",
    "    display(\"--------------------------------------\")\n",
    "    display(X)\n",
    "    # display(\"Значения f(x)\")\n",
    "    for n_s in tqdm(range(0, n+1)):\n",
    "        val = X(n_s)\n",
    "        # display(val)\n",
    "        if val == 0:\n",
    "            mn = Poly(x - val, x)\n",
    "            res.append(mn)\n",
    "            q, _  = X.div(mn)\n",
    "            res.append(q)\n",
    "        else:\n",
    "            factors.append(get_factor(val))\n",
    "            factors[n_s].sort()\n",
    "    factors_len = 1\n",
    "    # считаем число вариантов которые необходимо перебрать\n",
    "    # display(\"Все факторы\")\n",
    "    for f in factors:\n",
    "        factors_len = f.shape[0] * factors_len\n",
    "        # display(f)\n",
    "\n",
    "    # и делим его на 2 чтобы не перебирать лишние комбинации\n",
    "    factors_len = factors_len // 2\n",
    "    display(factors)\n",
    "    print(factors_len)\n",
    "    # выполняем прямое произведение между членами вектора факторов\n",
    "    ys = product(*factors)\n",
    "    # и начинаем перебор\n",
    "    # for i, y in enumerate(list(ys)):\n",
    "    #     print(y)\n",
    "    #     if i == factors_len:\n",
    "    #         print(\"----------------------------\")\n",
    "    #\n",
    "    for i, y_i in tqdm(enumerate(ys), total=factors_len):\n",
    "        # интерполяция по Лагранжу\n",
    "        k = lagrange_for_integers(R, y_i)\n",
    "        if k is None:\n",
    "            continue\n",
    "        LC = k.c[0]\n",
    "        k = k / LC\n",
    "        k = k.c.astype(np.int32)\n",
    "        buf_poly = Poly(k, x, domain = ZZ)\n",
    "        # display(y_i)\n",
    "        buf_deg = degree(buf_poly, gen=x)\n",
    "        # display(buf_poly)\n",
    "        if buf_deg > 0 and buf_deg not in factors_deg:\n",
    "            # если исходный полином делиться на интерполяционный без остатка то выводим его\n",
    "            quo, rem =  X.div(buf_poly)\n",
    "            # print(rem)\n",
    "            if rem == 0:\n",
    "                # display(\"Интерполяционный полином:\")\n",
    "                # display(buf_poly)\n",
    "                # display(\"Результат деления исходного на интерполяционный:\")\n",
    "                # display(quo)\n",
    "                # display(\"Проверка:\")\n",
    "                # display(quo * buf_poly)\n",
    "                # display(\"-------------------------\")\n",
    "                factors_deg.add(degree_list(buf_poly)[0])\n",
    "                factors_deg.add(degree_list(quo)[0])\n",
    "                res.append((quo, buf_poly, y_i))\n",
    "                if r:\n",
    "                    queue_.append(quo)\n",
    "                    queue_.append(buf_poly)\n",
    "        # if i >= factors_len:\n",
    "        #     break\n",
    "    if len(res) != 0:\n",
    "        display(\"Интерполяционный полином и Результат деления исходного на интерполяционный:\")\n",
    "        for buf, quo_, fac in res:\n",
    "            display(\"Факторы\")\n",
    "            display(fac)\n",
    "            display(\"Исходный полином:\")\n",
    "            display(X)\n",
    "            display(\"Интерполяционный полином:\")\n",
    "            display(buf)\n",
    "            display(\"Результат деления исходного на интерполяционный:\")\n",
    "            display(quo_)\n",
    "\n",
    "    display(\"--------------------------------------\")"
   ],
   "metadata": {
    "collapsed": false,
    "pycharm": {
     "name": "#%%\n"
    }
   }
  },
  {
   "cell_type": "code",
   "execution_count": 82,
   "outputs": [
    {
     "data": {
      "text/plain": "'--------------------------------------'"
     },
     "metadata": {},
     "output_type": "display_data"
    },
    {
     "data": {
      "text/plain": "'Исходный полином'"
     },
     "metadata": {},
     "output_type": "display_data"
    },
    {
     "data": {
      "text/plain": "'--------------------------------------'"
     },
     "metadata": {},
     "output_type": "display_data"
    },
    {
     "data": {
      "text/plain": "Poly(x**2 - 10000, x, domain='ZZ')",
      "image/png": "[encoded data removed]",
      "text/latex": "$\\displaystyle \\operatorname{Poly}{\\left( x^{2} - 10000, x, domain=\\mathbb{Z} \\right)}$"
     },
     "metadata": {},
     "output_type": "display_data"
    },
    {
     "name": "stderr",
     "output_type": "stream",
     "text": [
      "100%|██████████| 2/2 [00:00<00:00, 1997.76it/s]\n",
      " 40%|████      | 16/40 [00:16<00:25,  1.05s/it]\n"
     ]
    },
    {
     "data": {
      "text/plain": "[array([-10000, -5, -2, -1, 1, 2, 5, 10000], dtype=object),\n array([-9999, -101, -11, -3, -1, 1, 3, 11, 101, 9999], dtype=object)]"
     },
     "metadata": {},
     "output_type": "display_data"
    },
    {
     "name": "stdout",
     "output_type": "stream",
     "text": [
      "40\n"
     ]
    },
    {
     "data": {
      "text/plain": "Poly(x - 10000, x, domain='ZZ')",
      "image/png": "[encoded data removed]",
      "text/latex": "$\\displaystyle \\operatorname{Poly}{\\left( x - 10000, x, domain=\\mathbb{Z} \\right)}$"
     },
     "metadata": {},
     "output_type": "display_data"
    },
    {
     "data": {
      "text/plain": "Poly(x - 1, x, domain='ZZ')",
      "image/png": "[encoded data removed]",
      "text/latex": "$\\displaystyle \\operatorname{Poly}{\\left( x - 1, x, domain=\\mathbb{Z} \\right)}$"
     },
     "metadata": {},
     "output_type": "display_data"
    },
    {
     "data": {
      "text/plain": "Poly(x - 1, x, domain='ZZ')",
      "image/png": "[encoded data removed]",
      "text/latex": "$\\displaystyle \\operatorname{Poly}{\\left( x - 1, x, domain=\\mathbb{Z} \\right)}$"
     },
     "metadata": {},
     "output_type": "display_data"
    },
    {
     "data": {
      "text/plain": "Poly(x - 1, x, domain='ZZ')",
      "image/png": "[encoded data removed]",
      "text/latex": "$\\displaystyle \\operatorname{Poly}{\\left( x - 1, x, domain=\\mathbb{Z} \\right)}$"
     },
     "metadata": {},
     "output_type": "display_data"
    },
    {
     "data": {
      "text/plain": "Poly(x - 1, x, domain='ZZ')",
      "image/png": "[encoded data removed]",
      "text/latex": "$\\displaystyle \\operatorname{Poly}{\\left( x - 1, x, domain=\\mathbb{Z} \\right)}$"
     },
     "metadata": {},
     "output_type": "display_data"
    },
    {
     "data": {
      "text/plain": "Poly(x, x, domain='ZZ')",
      "image/png": "[encoded data removed]",
      "text/latex": "$\\displaystyle \\operatorname{Poly}{\\left( x, x, domain=\\mathbb{Z} \\right)}$"
     },
     "metadata": {},
     "output_type": "display_data"
    },
    {
     "data": {
      "text/plain": "Poly(x, x, domain='ZZ')",
      "image/png": "[encoded data removed]",
      "text/latex": "$\\displaystyle \\operatorname{Poly}{\\left( x, x, domain=\\mathbb{Z} \\right)}$"
     },
     "metadata": {},
     "output_type": "display_data"
    },
    {
     "data": {
      "text/plain": "Poly(x, x, domain='ZZ')",
      "image/png": "[encoded data removed]",
      "text/latex": "$\\displaystyle \\operatorname{Poly}{\\left( x, x, domain=\\mathbb{Z} \\right)}$"
     },
     "metadata": {},
     "output_type": "display_data"
    },
    {
     "data": {
      "text/plain": "Poly(x, x, domain='ZZ')",
      "image/png": "[encoded data removed]",
      "text/latex": "$\\displaystyle \\operatorname{Poly}{\\left( x, x, domain=\\mathbb{Z} \\right)}$"
     },
     "metadata": {},
     "output_type": "display_data"
    },
    {
     "data": {
      "text/plain": "Poly(x, x, domain='ZZ')",
      "image/png": "[encoded data removed]",
      "text/latex": "$\\displaystyle \\operatorname{Poly}{\\left( x, x, domain=\\mathbb{Z} \\right)}$"
     },
     "metadata": {},
     "output_type": "display_data"
    },
    {
     "data": {
      "text/plain": "Poly(x, x, domain='ZZ')",
      "image/png": "[encoded data removed]",
      "text/latex": "$\\displaystyle \\operatorname{Poly}{\\left( x, x, domain=\\mathbb{Z} \\right)}$"
     },
     "metadata": {},
     "output_type": "display_data"
    },
    {
     "data": {
      "text/plain": "Poly(x, x, domain='ZZ')",
      "image/png": "[encoded data removed]",
      "text/latex": "$\\displaystyle \\operatorname{Poly}{\\left( x, x, domain=\\mathbb{Z} \\right)}$"
     },
     "metadata": {},
     "output_type": "display_data"
    },
    {
     "data": {
      "text/plain": "Poly(x, x, domain='ZZ')",
      "image/png": "[encoded data removed]",
      "text/latex": "$\\displaystyle \\operatorname{Poly}{\\left( x, x, domain=\\mathbb{Z} \\right)}$"
     },
     "metadata": {},
     "output_type": "display_data"
    },
    {
     "data": {
      "text/plain": "Poly(x - 2, x, domain='ZZ')",
      "image/png": "[encoded data removed]",
      "text/latex": "$\\displaystyle \\operatorname{Poly}{\\left( x - 2, x, domain=\\mathbb{Z} \\right)}$"
     },
     "metadata": {},
     "output_type": "display_data"
    },
    {
     "data": {
      "text/plain": "Poly(x - 1, x, domain='ZZ')",
      "image/png": "[encoded data removed]",
      "text/latex": "$\\displaystyle \\operatorname{Poly}{\\left( x - 1, x, domain=\\mathbb{Z} \\right)}$"
     },
     "metadata": {},
     "output_type": "display_data"
    },
    {
     "data": {
      "text/plain": "Poly(x, x, domain='ZZ')",
      "image/png": "[encoded data removed]",
      "text/latex": "$\\displaystyle \\operatorname{Poly}{\\left( x, x, domain=\\mathbb{Z} \\right)}$"
     },
     "metadata": {},
     "output_type": "display_data"
    },
    {
     "ename": "KeyboardInterrupt",
     "evalue": "",
     "output_type": "error",
     "traceback": [
      "\u001B[1;31m---------------------------------------------------------------------------\u001B[0m",
      "\u001B[1;31mKeyboardInterrupt\u001B[0m                         Traceback (most recent call last)",
      "\u001B[1;32m<ipython-input-82-112ae9e1c37c>\u001B[0m in \u001B[0;36m<module>\u001B[1;34m\u001B[0m\n\u001B[0;32m      9\u001B[0m \u001B[0mqueue\u001B[0m\u001B[1;33m.\u001B[0m\u001B[0mappend\u001B[0m\u001B[1;33m(\u001B[0m\u001B[0mX\u001B[0m\u001B[1;33m)\u001B[0m\u001B[1;33m\u001B[0m\u001B[1;33m\u001B[0m\u001B[0m\n\u001B[0;32m     10\u001B[0m \u001B[1;32mwhile\u001B[0m \u001B[0mlen\u001B[0m\u001B[1;33m(\u001B[0m\u001B[0mqueue\u001B[0m\u001B[1;33m)\u001B[0m \u001B[1;33m!=\u001B[0m \u001B[1;36m0\u001B[0m\u001B[1;33m:\u001B[0m\u001B[1;33m\u001B[0m\u001B[1;33m\u001B[0m\u001B[0m\n\u001B[1;32m---> 11\u001B[1;33m     \u001B[0mkroneker\u001B[0m\u001B[1;33m(\u001B[0m\u001B[0mqueue\u001B[0m\u001B[1;33m,\u001B[0m \u001B[1;32mTrue\u001B[0m\u001B[1;33m)\u001B[0m\u001B[1;33m\u001B[0m\u001B[1;33m\u001B[0m\u001B[0m\n\u001B[0m\u001B[0;32m     12\u001B[0m \u001B[1;33m\u001B[0m\u001B[0m\n",
      "\u001B[1;32m<ipython-input-81-ec7d0289a4f4>\u001B[0m in \u001B[0;36mkroneker\u001B[1;34m(queue_, r)\u001B[0m\n\u001B[0;32m     52\u001B[0m         \u001B[1;31m# display(y_i)\u001B[0m\u001B[1;33m\u001B[0m\u001B[1;33m\u001B[0m\u001B[1;33m\u001B[0m\u001B[0m\n\u001B[0;32m     53\u001B[0m         \u001B[0mbuf_deg\u001B[0m \u001B[1;33m=\u001B[0m \u001B[0mdegree\u001B[0m\u001B[1;33m(\u001B[0m\u001B[0mbuf_poly\u001B[0m\u001B[1;33m,\u001B[0m \u001B[0mgen\u001B[0m\u001B[1;33m=\u001B[0m\u001B[0mx\u001B[0m\u001B[1;33m)\u001B[0m\u001B[1;33m\u001B[0m\u001B[1;33m\u001B[0m\u001B[0m\n\u001B[1;32m---> 54\u001B[1;33m         \u001B[0mdisplay\u001B[0m\u001B[1;33m(\u001B[0m\u001B[0mbuf_poly\u001B[0m\u001B[1;33m)\u001B[0m\u001B[1;33m\u001B[0m\u001B[1;33m\u001B[0m\u001B[0m\n\u001B[0m\u001B[0;32m     55\u001B[0m         \u001B[1;32mif\u001B[0m \u001B[0mbuf_deg\u001B[0m \u001B[1;33m>\u001B[0m \u001B[1;36m0\u001B[0m \u001B[1;32mand\u001B[0m \u001B[0mbuf_deg\u001B[0m \u001B[1;32mnot\u001B[0m \u001B[1;32min\u001B[0m \u001B[0mfactors_deg\u001B[0m\u001B[1;33m:\u001B[0m\u001B[1;33m\u001B[0m\u001B[1;33m\u001B[0m\u001B[0m\n\u001B[0;32m     56\u001B[0m             \u001B[1;31m# если исходный полином делиться на интерполяционный без остатка то выводим его\u001B[0m\u001B[1;33m\u001B[0m\u001B[1;33m\u001B[0m\u001B[1;33m\u001B[0m\u001B[0m\n",
      "\u001B[1;32mh:\\games\\work\\mathpartner\\venv\\lib\\site-packages\\IPython\\core\\display.py\u001B[0m in \u001B[0;36mdisplay\u001B[1;34m(include, exclude, metadata, transient, display_id, *objs, **kwargs)\u001B[0m\n\u001B[0;32m    311\u001B[0m             \u001B[0mpublish_display_data\u001B[0m\u001B[1;33m(\u001B[0m\u001B[0mdata\u001B[0m\u001B[1;33m=\u001B[0m\u001B[0mobj\u001B[0m\u001B[1;33m,\u001B[0m \u001B[0mmetadata\u001B[0m\u001B[1;33m=\u001B[0m\u001B[0mmetadata\u001B[0m\u001B[1;33m,\u001B[0m \u001B[1;33m**\u001B[0m\u001B[0mkwargs\u001B[0m\u001B[1;33m)\u001B[0m\u001B[1;33m\u001B[0m\u001B[1;33m\u001B[0m\u001B[0m\n\u001B[0;32m    312\u001B[0m         \u001B[1;32melse\u001B[0m\u001B[1;33m:\u001B[0m\u001B[1;33m\u001B[0m\u001B[1;33m\u001B[0m\u001B[0m\n\u001B[1;32m--> 313\u001B[1;33m             \u001B[0mformat_dict\u001B[0m\u001B[1;33m,\u001B[0m \u001B[0mmd_dict\u001B[0m \u001B[1;33m=\u001B[0m \u001B[0mformat\u001B[0m\u001B[1;33m(\u001B[0m\u001B[0mobj\u001B[0m\u001B[1;33m,\u001B[0m \u001B[0minclude\u001B[0m\u001B[1;33m=\u001B[0m\u001B[0minclude\u001B[0m\u001B[1;33m,\u001B[0m \u001B[0mexclude\u001B[0m\u001B[1;33m=\u001B[0m\u001B[0mexclude\u001B[0m\u001B[1;33m)\u001B[0m\u001B[1;33m\u001B[0m\u001B[1;33m\u001B[0m\u001B[0m\n\u001B[0m\u001B[0;32m    314\u001B[0m             \u001B[1;32mif\u001B[0m \u001B[1;32mnot\u001B[0m \u001B[0mformat_dict\u001B[0m\u001B[1;33m:\u001B[0m\u001B[1;33m\u001B[0m\u001B[1;33m\u001B[0m\u001B[0m\n\u001B[0;32m    315\u001B[0m                 \u001B[1;31m# nothing to display (e.g. _ipython_display_ took over)\u001B[0m\u001B[1;33m\u001B[0m\u001B[1;33m\u001B[0m\u001B[1;33m\u001B[0m\u001B[0m\n",
      "\u001B[1;32mh:\\games\\work\\mathpartner\\venv\\lib\\site-packages\\IPython\\core\\formatters.py\u001B[0m in \u001B[0;36mformat\u001B[1;34m(self, obj, include, exclude)\u001B[0m\n\u001B[0;32m    178\u001B[0m             \u001B[0mmd\u001B[0m \u001B[1;33m=\u001B[0m \u001B[1;32mNone\u001B[0m\u001B[1;33m\u001B[0m\u001B[1;33m\u001B[0m\u001B[0m\n\u001B[0;32m    179\u001B[0m             \u001B[1;32mtry\u001B[0m\u001B[1;33m:\u001B[0m\u001B[1;33m\u001B[0m\u001B[1;33m\u001B[0m\u001B[0m\n\u001B[1;32m--> 180\u001B[1;33m                 \u001B[0mdata\u001B[0m \u001B[1;33m=\u001B[0m \u001B[0mformatter\u001B[0m\u001B[1;33m(\u001B[0m\u001B[0mobj\u001B[0m\u001B[1;33m)\u001B[0m\u001B[1;33m\u001B[0m\u001B[1;33m\u001B[0m\u001B[0m\n\u001B[0m\u001B[0;32m    181\u001B[0m             \u001B[1;32mexcept\u001B[0m\u001B[1;33m:\u001B[0m\u001B[1;33m\u001B[0m\u001B[1;33m\u001B[0m\u001B[0m\n\u001B[0;32m    182\u001B[0m                 \u001B[1;31m# FIXME: log the exception\u001B[0m\u001B[1;33m\u001B[0m\u001B[1;33m\u001B[0m\u001B[1;33m\u001B[0m\u001B[0m\n",
      "\u001B[1;32m<decorator-gen-2>\u001B[0m in \u001B[0;36m__call__\u001B[1;34m(self, obj)\u001B[0m\n",
      "\u001B[1;32mh:\\games\\work\\mathpartner\\venv\\lib\\site-packages\\IPython\\core\\formatters.py\u001B[0m in \u001B[0;36mcatch_format_error\u001B[1;34m(method, self, *args, **kwargs)\u001B[0m\n\u001B[0;32m    222\u001B[0m     \u001B[1;34m\"\"\"show traceback on failed format call\"\"\"\u001B[0m\u001B[1;33m\u001B[0m\u001B[1;33m\u001B[0m\u001B[0m\n\u001B[0;32m    223\u001B[0m     \u001B[1;32mtry\u001B[0m\u001B[1;33m:\u001B[0m\u001B[1;33m\u001B[0m\u001B[1;33m\u001B[0m\u001B[0m\n\u001B[1;32m--> 224\u001B[1;33m         \u001B[0mr\u001B[0m \u001B[1;33m=\u001B[0m \u001B[0mmethod\u001B[0m\u001B[1;33m(\u001B[0m\u001B[0mself\u001B[0m\u001B[1;33m,\u001B[0m \u001B[1;33m*\u001B[0m\u001B[0margs\u001B[0m\u001B[1;33m,\u001B[0m \u001B[1;33m**\u001B[0m\u001B[0mkwargs\u001B[0m\u001B[1;33m)\u001B[0m\u001B[1;33m\u001B[0m\u001B[1;33m\u001B[0m\u001B[0m\n\u001B[0m\u001B[0;32m    225\u001B[0m     \u001B[1;32mexcept\u001B[0m \u001B[0mNotImplementedError\u001B[0m\u001B[1;33m:\u001B[0m\u001B[1;33m\u001B[0m\u001B[1;33m\u001B[0m\u001B[0m\n\u001B[0;32m    226\u001B[0m         \u001B[1;31m# don't warn on NotImplementedErrors\u001B[0m\u001B[1;33m\u001B[0m\u001B[1;33m\u001B[0m\u001B[1;33m\u001B[0m\u001B[0m\n",
      "\u001B[1;32mh:\\games\\work\\mathpartner\\venv\\lib\\site-packages\\IPython\\core\\formatters.py\u001B[0m in \u001B[0;36m__call__\u001B[1;34m(self, obj)\u001B[0m\n\u001B[0;32m    339\u001B[0m                 \u001B[1;32mpass\u001B[0m\u001B[1;33m\u001B[0m\u001B[1;33m\u001B[0m\u001B[0m\n\u001B[0;32m    340\u001B[0m             \u001B[1;32melse\u001B[0m\u001B[1;33m:\u001B[0m\u001B[1;33m\u001B[0m\u001B[1;33m\u001B[0m\u001B[0m\n\u001B[1;32m--> 341\u001B[1;33m                 \u001B[1;32mreturn\u001B[0m \u001B[0mprinter\u001B[0m\u001B[1;33m(\u001B[0m\u001B[0mobj\u001B[0m\u001B[1;33m)\u001B[0m\u001B[1;33m\u001B[0m\u001B[1;33m\u001B[0m\u001B[0m\n\u001B[0m\u001B[0;32m    342\u001B[0m             \u001B[1;31m# Finally look for special method names\u001B[0m\u001B[1;33m\u001B[0m\u001B[1;33m\u001B[0m\u001B[1;33m\u001B[0m\u001B[0m\n\u001B[0;32m    343\u001B[0m             \u001B[0mmethod\u001B[0m \u001B[1;33m=\u001B[0m \u001B[0mget_real_method\u001B[0m\u001B[1;33m(\u001B[0m\u001B[0mobj\u001B[0m\u001B[1;33m,\u001B[0m \u001B[0mself\u001B[0m\u001B[1;33m.\u001B[0m\u001B[0mprint_method\u001B[0m\u001B[1;33m)\u001B[0m\u001B[1;33m\u001B[0m\u001B[1;33m\u001B[0m\u001B[0m\n",
      "\u001B[1;32mh:\\games\\work\\mathpartner\\venv\\lib\\site-packages\\sympy\\interactive\\printing.py\u001B[0m in \u001B[0;36m_print_latex_png\u001B[1;34m(o)\u001B[0m\n\u001B[0;32m    190\u001B[0m                 \u001B[0ms\u001B[0m \u001B[1;33m=\u001B[0m \u001B[1;34m'$\\\\displaystyle %s$'\u001B[0m \u001B[1;33m%\u001B[0m \u001B[0ms\u001B[0m\u001B[1;33m\u001B[0m\u001B[1;33m\u001B[0m\u001B[0m\n\u001B[0;32m    191\u001B[0m             \u001B[1;32mtry\u001B[0m\u001B[1;33m:\u001B[0m\u001B[1;33m\u001B[0m\u001B[1;33m\u001B[0m\u001B[0m\n\u001B[1;32m--> 192\u001B[1;33m                 \u001B[1;32mreturn\u001B[0m \u001B[0m_preview_wrapper\u001B[0m\u001B[1;33m(\u001B[0m\u001B[0ms\u001B[0m\u001B[1;33m)\u001B[0m\u001B[1;33m\u001B[0m\u001B[1;33m\u001B[0m\u001B[0m\n\u001B[0m\u001B[0;32m    193\u001B[0m             \u001B[1;32mexcept\u001B[0m \u001B[0mRuntimeError\u001B[0m \u001B[1;32mas\u001B[0m \u001B[0me\u001B[0m\u001B[1;33m:\u001B[0m\u001B[1;33m\u001B[0m\u001B[1;33m\u001B[0m\u001B[0m\n\u001B[0;32m    194\u001B[0m                 debug('preview failed with:', repr(e),\n",
      "\u001B[1;32mh:\\games\\work\\mathpartner\\venv\\lib\\site-packages\\sympy\\interactive\\printing.py\u001B[0m in \u001B[0;36m_preview_wrapper\u001B[1;34m(o)\u001B[0m\n\u001B[0;32m     96\u001B[0m             preview(o, output='png', viewer='BytesIO',\n\u001B[0;32m     97\u001B[0m                     \u001B[0moutputbuffer\u001B[0m\u001B[1;33m=\u001B[0m\u001B[0mexprbuffer\u001B[0m\u001B[1;33m,\u001B[0m \u001B[0mpreamble\u001B[0m\u001B[1;33m=\u001B[0m\u001B[0mpreamble\u001B[0m\u001B[1;33m,\u001B[0m\u001B[1;33m\u001B[0m\u001B[1;33m\u001B[0m\u001B[0m\n\u001B[1;32m---> 98\u001B[1;33m                     dvioptions=dvioptions)\n\u001B[0m\u001B[0;32m     99\u001B[0m         \u001B[1;32mexcept\u001B[0m \u001B[0mException\u001B[0m \u001B[1;32mas\u001B[0m \u001B[0me\u001B[0m\u001B[1;33m:\u001B[0m\u001B[1;33m\u001B[0m\u001B[1;33m\u001B[0m\u001B[0m\n\u001B[0;32m    100\u001B[0m             \u001B[1;31m# IPython swallows exceptions\u001B[0m\u001B[1;33m\u001B[0m\u001B[1;33m\u001B[0m\u001B[1;33m\u001B[0m\u001B[0m\n",
      "\u001B[1;32mh:\\games\\work\\mathpartner\\venv\\lib\\site-packages\\sympy\\printing\\preview.py\u001B[0m in \u001B[0;36mpreview\u001B[1;34m(expr, output, viewer, euler, packages, filename, outputbuffer, preamble, dvioptions, outputTexFile, **latex_settings)\u001B[0m\n\u001B[0;32m    239\u001B[0m                     \u001B[0mcreation_flag\u001B[0m \u001B[1;33m=\u001B[0m \u001B[1;36m0\u001B[0m \u001B[1;31m# Default value\u001B[0m\u001B[1;33m\u001B[0m\u001B[1;33m\u001B[0m\u001B[0m\n\u001B[0;32m    240\u001B[0m                 check_output(cmd, cwd=workdir, stderr=STDOUT,\n\u001B[1;32m--> 241\u001B[1;33m                              creationflags=creation_flag)\n\u001B[0m\u001B[0;32m    242\u001B[0m             \u001B[1;32mexcept\u001B[0m \u001B[0mCalledProcessError\u001B[0m \u001B[1;32mas\u001B[0m \u001B[0me\u001B[0m\u001B[1;33m:\u001B[0m\u001B[1;33m\u001B[0m\u001B[1;33m\u001B[0m\u001B[0m\n\u001B[0;32m    243\u001B[0m                 raise RuntimeError(\n",
      "\u001B[1;32m~\\AppData\\Local\\Programs\\Python\\Python37\\lib\\subprocess.py\u001B[0m in \u001B[0;36mcheck_output\u001B[1;34m(timeout, *popenargs, **kwargs)\u001B[0m\n\u001B[0;32m    393\u001B[0m \u001B[1;33m\u001B[0m\u001B[0m\n\u001B[0;32m    394\u001B[0m     return run(*popenargs, stdout=PIPE, timeout=timeout, check=True,\n\u001B[1;32m--> 395\u001B[1;33m                **kwargs).stdout\n\u001B[0m\u001B[0;32m    396\u001B[0m \u001B[1;33m\u001B[0m\u001B[0m\n\u001B[0;32m    397\u001B[0m \u001B[1;33m\u001B[0m\u001B[0m\n",
      "\u001B[1;32m~\\AppData\\Local\\Programs\\Python\\Python37\\lib\\subprocess.py\u001B[0m in \u001B[0;36mrun\u001B[1;34m(input, capture_output, timeout, check, *popenargs, **kwargs)\u001B[0m\n\u001B[0;32m    472\u001B[0m     \u001B[1;32mwith\u001B[0m \u001B[0mPopen\u001B[0m\u001B[1;33m(\u001B[0m\u001B[1;33m*\u001B[0m\u001B[0mpopenargs\u001B[0m\u001B[1;33m,\u001B[0m \u001B[1;33m**\u001B[0m\u001B[0mkwargs\u001B[0m\u001B[1;33m)\u001B[0m \u001B[1;32mas\u001B[0m \u001B[0mprocess\u001B[0m\u001B[1;33m:\u001B[0m\u001B[1;33m\u001B[0m\u001B[1;33m\u001B[0m\u001B[0m\n\u001B[0;32m    473\u001B[0m         \u001B[1;32mtry\u001B[0m\u001B[1;33m:\u001B[0m\u001B[1;33m\u001B[0m\u001B[1;33m\u001B[0m\u001B[0m\n\u001B[1;32m--> 474\u001B[1;33m             \u001B[0mstdout\u001B[0m\u001B[1;33m,\u001B[0m \u001B[0mstderr\u001B[0m \u001B[1;33m=\u001B[0m \u001B[0mprocess\u001B[0m\u001B[1;33m.\u001B[0m\u001B[0mcommunicate\u001B[0m\u001B[1;33m(\u001B[0m\u001B[0minput\u001B[0m\u001B[1;33m,\u001B[0m \u001B[0mtimeout\u001B[0m\u001B[1;33m=\u001B[0m\u001B[0mtimeout\u001B[0m\u001B[1;33m)\u001B[0m\u001B[1;33m\u001B[0m\u001B[1;33m\u001B[0m\u001B[0m\n\u001B[0m\u001B[0;32m    475\u001B[0m         \u001B[1;32mexcept\u001B[0m \u001B[0mTimeoutExpired\u001B[0m\u001B[1;33m:\u001B[0m\u001B[1;33m\u001B[0m\u001B[1;33m\u001B[0m\u001B[0m\n\u001B[0;32m    476\u001B[0m             \u001B[0mprocess\u001B[0m\u001B[1;33m.\u001B[0m\u001B[0mkill\u001B[0m\u001B[1;33m(\u001B[0m\u001B[1;33m)\u001B[0m\u001B[1;33m\u001B[0m\u001B[1;33m\u001B[0m\u001B[0m\n",
      "\u001B[1;32m~\\AppData\\Local\\Programs\\Python\\Python37\\lib\\subprocess.py\u001B[0m in \u001B[0;36mcommunicate\u001B[1;34m(self, input, timeout)\u001B[0m\n\u001B[0;32m    924\u001B[0m                 \u001B[0mself\u001B[0m\u001B[1;33m.\u001B[0m\u001B[0m_stdin_write\u001B[0m\u001B[1;33m(\u001B[0m\u001B[0minput\u001B[0m\u001B[1;33m)\u001B[0m\u001B[1;33m\u001B[0m\u001B[1;33m\u001B[0m\u001B[0m\n\u001B[0;32m    925\u001B[0m             \u001B[1;32melif\u001B[0m \u001B[0mself\u001B[0m\u001B[1;33m.\u001B[0m\u001B[0mstdout\u001B[0m\u001B[1;33m:\u001B[0m\u001B[1;33m\u001B[0m\u001B[1;33m\u001B[0m\u001B[0m\n\u001B[1;32m--> 926\u001B[1;33m                 \u001B[0mstdout\u001B[0m \u001B[1;33m=\u001B[0m \u001B[0mself\u001B[0m\u001B[1;33m.\u001B[0m\u001B[0mstdout\u001B[0m\u001B[1;33m.\u001B[0m\u001B[0mread\u001B[0m\u001B[1;33m(\u001B[0m\u001B[1;33m)\u001B[0m\u001B[1;33m\u001B[0m\u001B[1;33m\u001B[0m\u001B[0m\n\u001B[0m\u001B[0;32m    927\u001B[0m                 \u001B[0mself\u001B[0m\u001B[1;33m.\u001B[0m\u001B[0mstdout\u001B[0m\u001B[1;33m.\u001B[0m\u001B[0mclose\u001B[0m\u001B[1;33m(\u001B[0m\u001B[1;33m)\u001B[0m\u001B[1;33m\u001B[0m\u001B[1;33m\u001B[0m\u001B[0m\n\u001B[0;32m    928\u001B[0m             \u001B[1;32melif\u001B[0m \u001B[0mself\u001B[0m\u001B[1;33m.\u001B[0m\u001B[0mstderr\u001B[0m\u001B[1;33m:\u001B[0m\u001B[1;33m\u001B[0m\u001B[1;33m\u001B[0m\u001B[0m\n",
      "\u001B[1;31mKeyboardInterrupt\u001B[0m: "
     ]
    }
   ],
   "source": [
    "# X = Poly(x ** 4 + x ** 3 + x ** 2 - x - 2)\n",
    "# X = Poly(x ** 4  - 2 * x ** 2 + 1)\n",
    "X = Poly(x ** 4  - 20000 * x ** 2 + 10 ** 8)\n",
    "# X = Poly(x ** 2 - 2 * x + 1)\n",
    "X = sqf_part(X)\n",
    "# X = Poly(x ** 5- 2 * x ** 3 + 7*x ** 2 - 5*x + 1)\n",
    "# X = Poly(x ** 5 - x ** 4 - 2* x ** 3 - 8 * x ** 2 + 6 * x - 1)\n",
    "queue = list()\n",
    "queue.append(X)\n",
    "while len(queue) != 0:\n",
    "    kroneker(queue, True)"
   ],
   "metadata": {
    "collapsed": false,
    "pycharm": {
     "name": "#%%\n"
    }
   }
  },
  {
   "cell_type": "code",
   "execution_count": null,
   "metadata": {
    "pycharm": {
     "name": "#%%\n"
    }
   },
   "outputs": [],
   "source": [
    "np.array([1., 1.5, 7.2]).astype(np.int32)"
   ]
  },
  {
   "cell_type": "code",
   "execution_count": 30,
   "outputs": [
    {
     "data": {
      "text/plain": "Poly(x**2 + x, x, y, domain='ZZ')",
      "image/png": "[encoded data removed]",
      "text/latex": "$\\displaystyle \\operatorname{Poly}{\\left( x^{2} + x, x, y, domain=\\mathbb{Z} \\right)}$"
     },
     "metadata": {},
     "output_type": "display_data"
    }
   ],
   "source": [
    "def S(t1, t2):\n",
    "    d = gcd(LM(t1), LM(t2))\n",
    "    f = LM(t1) / d\n",
    "    g = LM(t2) / d\n",
    "    return g * t1 - t2 * f\n",
    "\n",
    "# t1 = Poly(x ** 2 * y + x)\n",
    "# t2 = Poly(x * y ** 2 - x * y)\n",
    "# display(S(t1, t2))\n",
    "t1 = Poly(x ** 2 * y + x)\n",
    "t2 = Poly(x * y - x)\n",
    "display(S(t1, t2))"
   ],
   "metadata": {
    "collapsed": false,
    "pycharm": {
     "name": "#%%\n"
    }
   }
  },
  {
   "cell_type": "code",
   "execution_count": 20,
   "outputs": [
    {
     "data": {
      "text/plain": "             ⎛⎡ 2             ⎤                             ⎞\nGroebnerBasis⎝⎣x  + x, x⋅y - x⎦, x, y, domain=ℤ, order=grlex⎠",
      "image/png": "[encoded data removed]",
      "text/latex": "$\\displaystyle GroebnerBasis\\left(\\left( x^{2} + x, \\  x y - x\\right), \\left( x, \\  y\\right)\\right)$"
     },
     "execution_count": 20,
     "metadata": {},
     "output_type": "execute_result"
    }
   ],
   "source": [
    "groebner([t1, t2], x,y,order='grlex')"
   ],
   "metadata": {
    "collapsed": false,
    "pycharm": {
     "name": "#%%\n"
    }
   }
  },
  {
   "cell_type": "code",
   "execution_count": 50,
   "outputs": [],
   "source": [
    "def sq_free(T):\n",
    "    p = T\n",
    "    res_list = list()\n",
    "    display(p)\n",
    "    while degree(p, gen=x) !=0:\n",
    "        Rx = gcd(T, T.diff())\n",
    "        Tx, _ = div(T, Rx)\n",
    "        Vx = gcd(Rx, Tx)\n",
    "        res, _ = div(Tx, Vx)\n",
    "        p = res\n",
    "        res_list.append(res)\n",
    "    return res_list"
   ],
   "metadata": {
    "collapsed": false,
    "pycharm": {
     "name": "#%%\n"
    }
   }
  },
  {
   "cell_type": "code",
   "execution_count": 80,
   "outputs": [
    {
     "data": {
      "text/plain": "Poly(x**2 - 2*x + 1, x, domain='ZZ')",
      "image/png": "[encoded data removed]",
      "text/latex": "$\\displaystyle \\operatorname{Poly}{\\left( x^{2} - 2 x + 1, x, domain=\\mathbb{Z} \\right)}$"
     },
     "metadata": {},
     "output_type": "display_data"
    },
    {
     "data": {
      "text/plain": "[Poly(1, x, domain='ZZ')]",
      "image/png": "[encoded data removed]",
      "text/latex": "$\\displaystyle \\left[ \\operatorname{Poly}{\\left( 1, x, domain=\\mathbb{Z} \\right)}\\right]$"
     },
     "metadata": {},
     "output_type": "display_data"
    }
   ],
   "source": [
    "# X = Poly(x ** 4 + x ** 3 + x ** 2 - x - 2)\n",
    "X = Poly(x ** 2  - 2 * x + 1)\n",
    "l = sq_free(X)\n",
    "for i in l:\n",
    "    display(l)"
   ],
   "metadata": {
    "collapsed": false,
    "pycharm": {
     "name": "#%%\n"
    }
   }
  },
  {
   "cell_type": "code",
   "execution_count": 64,
   "outputs": [
    {
     "data": {
      "text/plain": "(1, [(Poly(x**2 - 10000, x, domain='ZZ'), 2)])",
      "image/png": "[encoded data removed]",
      "text/latex": "$\\displaystyle \\left( 1, \\  \\left[ \\left( \\operatorname{Poly}{\\left( x^{2} - 10000, x, domain=\\mathbb{Z} \\right)}, \\  2\\right)\\right]\\right)$"
     },
     "execution_count": 64,
     "metadata": {},
     "output_type": "execute_result"
    }
   ],
   "source": [
    "# X = Poly(x ** 4  - 20000 * x ** 2 + 10 ** 8)\n",
    "# sqf_list(X)\n"
   ],
   "metadata": {
    "collapsed": false,
    "pycharm": {
     "name": "#%%\n"
    }
   }
  },
  {
   "cell_type": "code",
   "execution_count": 78,
   "outputs": [
    {
     "data": {
      "text/plain": "{2: 4, 5: 4}",
      "image/png": "[encoded data removed]",
      "text/latex": "$\\displaystyle \\left\\{ 2 : 4, \\  5 : 4\\right\\}$"
     },
     "execution_count": 78,
     "metadata": {},
     "output_type": "execute_result"
    }
   ],
   "source": [
    "factorint(10000)"
   ],
   "metadata": {
    "collapsed": false,
    "pycharm": {
     "name": "#%%\n"
    }
   }
  }
 ],
 "metadata": {
  "kernelspec": {
   "display_name": "Python 3",
   "language": "python",
   "name": "python3"
  },
  "language_info": {
   "codemirror_mode": {
    "name": "ipython",
    "version": 3
   },
   "file_extension": ".py",
   "mimetype": "text/x-python",
   "name": "python",
   "nbconvert_exporter": "python",
   "pygments_lexer": "ipython3",
   "version": "3.7.3"
  }
 },
 "nbformat": 4,
 "nbformat_minor": 1
}