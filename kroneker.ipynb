{
 "cells": [
  {
   "cell_type": "code",
   "execution_count": 18,
   "metadata": {},
   "outputs": [
    {
     "name": "stdout",
     "output_type": "stream",
     "text": [
      "IPython console for SymPy 1.6.2 (Python 3.7.3-64-bit) (ground types: python)\n",
      "\n",
      "These commands were executed:\n",
      ">>> from __future__ import division\n",
      ">>> from sympy import *\n",
      ">>> x, y, z, t = symbols('x y z t')\n",
      ">>> k, m, n = symbols('k m n', integer=True)\n",
      ">>> f, g, h = symbols('f g h', cls=Function)\n",
      ">>> init_printing()\n",
      "\n",
      "Documentation can be found at https://docs.sympy.org/1.6.2/\n",
      "\n"
     ]
    }
   ],
   "source": [
    "from sympy import init_session\n",
    "import numpy as np\n",
    "from scipy.interpolate import lagrange\n",
    "from numpy.polynomial.polynomial import Polynomial\n",
    "init_session()\n",
    "from tqdm import tqdm\n",
    "from IPython.display import display\n",
    "from itertools import product"
   ]
  },
  {
   "cell_type": "code",
   "execution_count": 1,
   "metadata": {
    "pycharm": {
     "name": "#%%\n"
    }
   },
   "outputs": [],
   "source": [
    "from sympy import *"
   ]
  },
  {
   "cell_type": "code",
   "execution_count": 20,
   "metadata": {
    "pycharm": {
     "name": "#%%\n"
    }
   },
   "outputs": [],
   "source": [
    "def get_factor(number: int):\n",
    "    factors = list(factorint(number).keys())\n",
    "    factors.append(number)\n",
    "    factors.append(1)\n",
    "    factors.append(-1)\n",
    "    factors.extend([-x for x in factors.copy()])\n",
    "    return np.unique(np.array(factors))"
   ]
  },
  {
   "cell_type": "code",
   "execution_count": 31,
   "metadata": {
    "pycharm": {
     "name": "#%%\n"
    }
   },
   "outputs": [
    {
     "data": {
      "text/plain": "Poly(x**5 - x**4 - 2*x**3 - 8*x**2 + 6*x - 1, x, domain='ZZ')",
      "image/png": "[encoded data removed]",
      "text/latex": "$\\displaystyle \\operatorname{Poly}{\\left( x^{5} - x^{4} - 2 x^{3} - 8 x^{2} + 6 x - 1, x, domain=\\mathbb{Z} \\right)}$"
     },
     "metadata": {},
     "output_type": "display_data"
    },
    {
     "name": "stderr",
     "output_type": "stream",
     "text": [
      "100%|██████████| 3/3 [00:00<00:00, 2997.36it/s]\n",
      "100%|██████████| 32/32 [00:03<00:00,  9.90it/s]\n"
     ]
    },
    {
     "name": "stdout",
     "output_type": "stream",
     "text": [
      "32\n"
     ]
    },
    {
     "data": {
      "text/plain": "'Интерполяционный полином:'"
     },
     "metadata": {},
     "output_type": "display_data"
    },
    {
     "data": {
      "text/plain": "Poly(-1.0*x**2 + 3.0*x - 1.0, x, domain='RR')",
      "image/png": "[encoded data removed]",
      "text/latex": "$\\displaystyle \\operatorname{Poly}{\\left( -1.0 x^{2} + 3.0 x - 1.0, x, domain=\\mathbb{R} \\right)}$"
     },
     "metadata": {},
     "output_type": "display_data"
    },
    {
     "data": {
      "text/plain": "'Результат деления исходного на интерполяционный:'"
     },
     "metadata": {},
     "output_type": "display_data"
    },
    {
     "data": {
      "text/plain": "Poly(-1.0*x**3 - 2.0*x**2 - 3.0*x + 1.0, x, domain='RR')",
      "image/png": "[encoded data removed]",
      "text/latex": "$\\displaystyle \\operatorname{Poly}{\\left( -1.0 x^{3} - 2.0 x^{2} - 3.0 x + 1.0, x, domain=\\mathbb{R} \\right)}$"
     },
     "metadata": {},
     "output_type": "display_data"
    },
    {
     "data": {
      "text/plain": "'Результат деления исходного на проверка:'"
     },
     "metadata": {},
     "output_type": "display_data"
    },
    {
     "data": {
      "text/plain": "Poly(1.0*x**5 - 1.0*x**4 - 2.0*x**3 - 8.0*x**2 + 6.0*x - 1.0, x, domain='RR')",
      "image/png": "[encoded data removed]",
      "text/latex": "$\\displaystyle \\operatorname{Poly}{\\left( 1.0 x^{5} - 1.0 x^{4} - 2.0 x^{3} - 8.0 x^{2} + 6.0 x - 1.0, x, domain=\\mathbb{R} \\right)}$"
     },
     "metadata": {},
     "output_type": "display_data"
    },
    {
     "data": {
      "text/plain": "'-------------------------'"
     },
     "metadata": {},
     "output_type": "display_data"
    }
   ],
   "source": [
    "x, y, z, t = symbols('x y z t')\n",
    "# исходный полином\n",
    "X = Poly(x ** 5 - x ** 4 - 2 * x ** 3 - 8 * x ** 2 + 6 * x - 1)\n",
    "display(X)\n",
    "n = degree(X) // 2\n",
    "# вектор точек, в которых необходимо\n",
    "R = np.array(range(0,n+1))\n",
    "# вектор делителей\n",
    "factors = list()\n",
    "# раскладываем множество делителей X (i), где i это число это от 0 до n\n",
    "for i in tqdm(range(0, n+1)):\n",
    "    t = X(i)\n",
    "    factors.append(get_factor(t))\n",
    "    factors[i].sort()\n",
    "factors_len = 1\n",
    "# считаем число вариантов которые необходимо перебрать\n",
    "for f in factors:\n",
    "    factors_len = f.shape[0] * factors_len\n",
    "# и делим его на 2 чтобы не перебирать лишние комбинации\n",
    "factors_len = factors_len // 2\n",
    "print(factors_len)\n",
    "# выполняем прямое произведение между членами вектора факторов\n",
    "ys = product(*factors)\n",
    "# и начинаем перебор\n",
    "for i, y_i in tqdm(enumerate(ys), total=factors_len):\n",
    "    # интерполяция по Лагранжу\n",
    "    k = lagrange(R, y_i)\n",
    "    buf_poly = Poly(k.c, x)\n",
    "    if degree(buf_poly) > 0:\n",
    "        # если исходный полином делиться на интерполяционный без остатка то выводим его\n",
    "        quo, rem =  X.div(buf_poly)\n",
    "        # print(rem)\n",
    "        if rem == 0:\n",
    "            display(\"Интерполяционный полином:\")\n",
    "            display(buf_poly)\n",
    "            display(\"Результат деления исходного на интерполяционный:\")\n",
    "            display(quo)\n",
    "            display(\"Результат деления исходного на проверка:\")\n",
    "            display(quo * buf_poly)\n",
    "            display(\"-------------------------\")\n",
    "    if i >= factors_len:\n",
    "        break"
   ]
  }
 ],
 "metadata": {
  "kernelspec": {
   "display_name": "Python 3",
   "language": "python",
   "name": "python3"
  },
  "language_info": {
   "codemirror_mode": {
    "name": "ipython",
    "version": 3
   },
   "file_extension": ".py",
   "mimetype": "text/x-python",
   "name": "python",
   "nbconvert_exporter": "python",
   "pygments_lexer": "ipython3",
   "version": "3.7.3"
  }
 },
 "nbformat": 4,
 "nbformat_minor": 1
}