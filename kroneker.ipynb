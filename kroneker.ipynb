{
 "cells": [
  {
   "cell_type": "code",
   "execution_count": 2,
   "metadata": {},
   "outputs": [
    {
     "name": "stdout",
     "output_type": "stream",
     "text": [
      "IPython console for SymPy 1.6.2 (Python 3.7.3-64-bit) (ground types: python)\n",
      "\n",
      "These commands were executed:\n",
      ">>> from __future__ import division\n",
      ">>> from sympy import *\n",
      ">>> x, y, z, t = symbols('x y z t')\n",
      ">>> k, m, n = symbols('k m n', integer=True)\n",
      ">>> f, g, h = symbols('f g h', cls=Function)\n",
      ">>> init_printing()\n",
      "\n",
      "Documentation can be found at https://docs.sympy.org/1.6.2/\n",
      "\n"
     ]
    }
   ],
   "source": [
    "from sympy import init_session\n",
    "import numpy as np\n",
    "from scipy.interpolate import lagrange\n",
    "from numpy.polynomial.polynomial import Polynomial\n",
    "init_session()\n",
    "from tqdm import tqdm"
   ]
  },
  {
   "cell_type": "code",
   "execution_count": 1,
   "metadata": {
    "pycharm": {
     "name": "#%%\n"
    }
   },
   "outputs": [],
   "source": [
    "from sympy import *"
   ]
  },
  {
   "cell_type": "code",
   "execution_count": 3,
   "metadata": {
    "pycharm": {
     "name": "#%%\n"
    }
   },
   "outputs": [],
   "source": [
    "from itertools import product\n",
    "# X = Poly(x ** 5 - x ** 4 - 2 * x ** 3 - 8 * x ** 2 + 6 * x - 1)\n",
    "\n"
   ]
  },
  {
   "cell_type": "code",
   "execution_count": 4,
   "metadata": {
    "pycharm": {
     "name": "#%%\n"
    }
   },
   "outputs": [],
   "source": [
    "def get_factor(number: int):\n",
    "    factors = list(factorint(number).keys())\n",
    "    factors.append(number)\n",
    "    factors.append(1)\n",
    "    factors.append(-1)\n",
    "    factors.extend([-x for x in factors.copy()])\n",
    "    return np.unique(np.array(factors))\n",
    "\n",
    "def cartesian_product(*arrays):\n",
    "    la = len(arrays)\n",
    "    arr = np.empty([len(a) for a in arrays] + [la], dtype=np.int64)\n",
    "    for i, a in tqdm(enumerate(np.ix_(*arrays))):\n",
    "        arr[...,i] = a\n",
    "    return arr.reshape(-1, la)"
   ]
  },
  {
   "cell_type": "code",
   "execution_count": 5,
   "metadata": {
    "pycharm": {
     "name": "#%%\n"
    }
   },
   "outputs": [
    {
     "name": "stderr",
     "output_type": "stream",
     "text": [
      "100%|██████████| 6/6 [00:00<00:00, 2998.43it/s]\n",
      " 14%|█▍        | 13949/98304 [01:51<11:16, 124.62it/s]\n"
     ]
    },
    {
     "name": "stdout",
     "output_type": "stream",
     "text": [
      "Poly(32*x**10 + 55*x**9 + 86*x**8 + 83*x**7 + 52*x**6 + 37*x**5 + 92*x**4 + 32*x**3 + 96*x**2 + 58*x + 76, x, domain='ZZ')\n",
      "98304\n"
     ]
    },
    {
     "ename": "KeyboardInterrupt",
     "evalue": "",
     "output_type": "error",
     "traceback": [
      "\u001B[1;31m---------------------------------------------------------------------------\u001B[0m",
      "\u001B[1;31mKeyboardInterrupt\u001B[0m                         Traceback (most recent call last)",
      "\u001B[1;32m<ipython-input-5-230d498d3d5d>\u001B[0m in \u001B[0;36m<module>\u001B[1;34m\u001B[0m\n\u001B[0;32m     25\u001B[0m     \u001B[1;31m# print(y_i)\u001B[0m\u001B[1;33m\u001B[0m\u001B[1;33m\u001B[0m\u001B[1;33m\u001B[0m\u001B[0m\n\u001B[0;32m     26\u001B[0m     \u001B[1;31m# print(R)\u001B[0m\u001B[1;33m\u001B[0m\u001B[1;33m\u001B[0m\u001B[1;33m\u001B[0m\u001B[0m\n\u001B[1;32m---> 27\u001B[1;33m     \u001B[0mk\u001B[0m \u001B[1;33m=\u001B[0m \u001B[0mlagrange\u001B[0m\u001B[1;33m(\u001B[0m\u001B[0mR\u001B[0m\u001B[1;33m,\u001B[0m \u001B[0my_i\u001B[0m\u001B[1;33m)\u001B[0m\u001B[1;33m\u001B[0m\u001B[1;33m\u001B[0m\u001B[0m\n\u001B[0m\u001B[0;32m     28\u001B[0m     \u001B[1;31m# print(k)\u001B[0m\u001B[1;33m\u001B[0m\u001B[1;33m\u001B[0m\u001B[1;33m\u001B[0m\u001B[0m\n\u001B[0;32m     29\u001B[0m     \u001B[0mbuf_poly\u001B[0m \u001B[1;33m=\u001B[0m \u001B[0mPoly\u001B[0m\u001B[1;33m(\u001B[0m\u001B[0mk\u001B[0m\u001B[1;33m.\u001B[0m\u001B[0mc\u001B[0m\u001B[1;33m,\u001B[0m \u001B[0mx\u001B[0m\u001B[1;33m)\u001B[0m\u001B[1;33m\u001B[0m\u001B[1;33m\u001B[0m\u001B[0m\n",
      "\u001B[1;32mh:\\games\\work\\mathpartner\\venv\\lib\\site-packages\\scipy\\interpolate\\interpolate.py\u001B[0m in \u001B[0;36mlagrange\u001B[1;34m(x, w)\u001B[0m\n\u001B[0;32m     80\u001B[0m                 \u001B[1;32mcontinue\u001B[0m\u001B[1;33m\u001B[0m\u001B[1;33m\u001B[0m\u001B[0m\n\u001B[0;32m     81\u001B[0m             \u001B[0mfac\u001B[0m \u001B[1;33m=\u001B[0m \u001B[0mx\u001B[0m\u001B[1;33m[\u001B[0m\u001B[0mj\u001B[0m\u001B[1;33m]\u001B[0m\u001B[1;33m-\u001B[0m\u001B[0mx\u001B[0m\u001B[1;33m[\u001B[0m\u001B[0mk\u001B[0m\u001B[1;33m]\u001B[0m\u001B[1;33m\u001B[0m\u001B[1;33m\u001B[0m\u001B[0m\n\u001B[1;32m---> 82\u001B[1;33m             \u001B[0mpt\u001B[0m \u001B[1;33m*=\u001B[0m \u001B[0mpoly1d\u001B[0m\u001B[1;33m(\u001B[0m\u001B[1;33m[\u001B[0m\u001B[1;36m1.0\u001B[0m\u001B[1;33m,\u001B[0m \u001B[1;33m-\u001B[0m\u001B[0mx\u001B[0m\u001B[1;33m[\u001B[0m\u001B[0mk\u001B[0m\u001B[1;33m]\u001B[0m\u001B[1;33m]\u001B[0m\u001B[1;33m)\u001B[0m\u001B[1;33m/\u001B[0m\u001B[0mfac\u001B[0m\u001B[1;33m\u001B[0m\u001B[1;33m\u001B[0m\u001B[0m\n\u001B[0m\u001B[0;32m     83\u001B[0m         \u001B[0mp\u001B[0m \u001B[1;33m+=\u001B[0m \u001B[0mpt\u001B[0m\u001B[1;33m\u001B[0m\u001B[1;33m\u001B[0m\u001B[0m\n\u001B[0;32m     84\u001B[0m     \u001B[1;32mreturn\u001B[0m \u001B[0mp\u001B[0m\u001B[1;33m\u001B[0m\u001B[1;33m\u001B[0m\u001B[0m\n",
      "\u001B[1;32mh:\\games\\work\\mathpartner\\venv\\lib\\site-packages\\numpy\\lib\\polynomial.py\u001B[0m in \u001B[0;36m__mul__\u001B[1;34m(self, other)\u001B[0m\n\u001B[0;32m   1261\u001B[0m         \u001B[1;32melse\u001B[0m\u001B[1;33m:\u001B[0m\u001B[1;33m\u001B[0m\u001B[1;33m\u001B[0m\u001B[0m\n\u001B[0;32m   1262\u001B[0m             \u001B[0mother\u001B[0m \u001B[1;33m=\u001B[0m \u001B[0mpoly1d\u001B[0m\u001B[1;33m(\u001B[0m\u001B[0mother\u001B[0m\u001B[1;33m)\u001B[0m\u001B[1;33m\u001B[0m\u001B[1;33m\u001B[0m\u001B[0m\n\u001B[1;32m-> 1263\u001B[1;33m             \u001B[1;32mreturn\u001B[0m \u001B[0mpoly1d\u001B[0m\u001B[1;33m(\u001B[0m\u001B[0mpolymul\u001B[0m\u001B[1;33m(\u001B[0m\u001B[0mself\u001B[0m\u001B[1;33m.\u001B[0m\u001B[0mcoeffs\u001B[0m\u001B[1;33m,\u001B[0m \u001B[0mother\u001B[0m\u001B[1;33m.\u001B[0m\u001B[0mcoeffs\u001B[0m\u001B[1;33m)\u001B[0m\u001B[1;33m)\u001B[0m\u001B[1;33m\u001B[0m\u001B[1;33m\u001B[0m\u001B[0m\n\u001B[0m\u001B[0;32m   1264\u001B[0m \u001B[1;33m\u001B[0m\u001B[0m\n\u001B[0;32m   1265\u001B[0m     \u001B[1;32mdef\u001B[0m \u001B[0m__rmul__\u001B[0m\u001B[1;33m(\u001B[0m\u001B[0mself\u001B[0m\u001B[1;33m,\u001B[0m \u001B[0mother\u001B[0m\u001B[1;33m)\u001B[0m\u001B[1;33m:\u001B[0m\u001B[1;33m\u001B[0m\u001B[1;33m\u001B[0m\u001B[0m\n",
      "\u001B[1;32m<__array_function__ internals>\u001B[0m in \u001B[0;36mpolymul\u001B[1;34m(*args, **kwargs)\u001B[0m\n",
      "\u001B[1;32mh:\\games\\work\\mathpartner\\venv\\lib\\site-packages\\numpy\\lib\\polynomial.py\u001B[0m in \u001B[0;36mpolymul\u001B[1;34m(a1, a2)\u001B[0m\n\u001B[0;32m    901\u001B[0m     \u001B[0mtruepoly\u001B[0m \u001B[1;33m=\u001B[0m \u001B[1;33m(\u001B[0m\u001B[0misinstance\u001B[0m\u001B[1;33m(\u001B[0m\u001B[0ma1\u001B[0m\u001B[1;33m,\u001B[0m \u001B[0mpoly1d\u001B[0m\u001B[1;33m)\u001B[0m \u001B[1;32mor\u001B[0m \u001B[0misinstance\u001B[0m\u001B[1;33m(\u001B[0m\u001B[0ma2\u001B[0m\u001B[1;33m,\u001B[0m \u001B[0mpoly1d\u001B[0m\u001B[1;33m)\u001B[0m\u001B[1;33m)\u001B[0m\u001B[1;33m\u001B[0m\u001B[1;33m\u001B[0m\u001B[0m\n\u001B[0;32m    902\u001B[0m     \u001B[0ma1\u001B[0m\u001B[1;33m,\u001B[0m \u001B[0ma2\u001B[0m \u001B[1;33m=\u001B[0m \u001B[0mpoly1d\u001B[0m\u001B[1;33m(\u001B[0m\u001B[0ma1\u001B[0m\u001B[1;33m)\u001B[0m\u001B[1;33m,\u001B[0m \u001B[0mpoly1d\u001B[0m\u001B[1;33m(\u001B[0m\u001B[0ma2\u001B[0m\u001B[1;33m)\u001B[0m\u001B[1;33m\u001B[0m\u001B[1;33m\u001B[0m\u001B[0m\n\u001B[1;32m--> 903\u001B[1;33m     \u001B[0mval\u001B[0m \u001B[1;33m=\u001B[0m \u001B[0mNX\u001B[0m\u001B[1;33m.\u001B[0m\u001B[0mconvolve\u001B[0m\u001B[1;33m(\u001B[0m\u001B[0ma1\u001B[0m\u001B[1;33m,\u001B[0m \u001B[0ma2\u001B[0m\u001B[1;33m)\u001B[0m\u001B[1;33m\u001B[0m\u001B[1;33m\u001B[0m\u001B[0m\n\u001B[0m\u001B[0;32m    904\u001B[0m     \u001B[1;32mif\u001B[0m \u001B[0mtruepoly\u001B[0m\u001B[1;33m:\u001B[0m\u001B[1;33m\u001B[0m\u001B[1;33m\u001B[0m\u001B[0m\n\u001B[0;32m    905\u001B[0m         \u001B[0mval\u001B[0m \u001B[1;33m=\u001B[0m \u001B[0mpoly1d\u001B[0m\u001B[1;33m(\u001B[0m\u001B[0mval\u001B[0m\u001B[1;33m)\u001B[0m\u001B[1;33m\u001B[0m\u001B[1;33m\u001B[0m\u001B[0m\n",
      "\u001B[1;32m<__array_function__ internals>\u001B[0m in \u001B[0;36mconvolve\u001B[1;34m(*args, **kwargs)\u001B[0m\n",
      "\u001B[1;32mh:\\games\\work\\mathpartner\\venv\\lib\\site-packages\\numpy\\core\\numeric.py\u001B[0m in \u001B[0;36mconvolve\u001B[1;34m(a, v, mode)\u001B[0m\n\u001B[0;32m    815\u001B[0m         \u001B[1;32mraise\u001B[0m \u001B[0mValueError\u001B[0m\u001B[1;33m(\u001B[0m\u001B[1;34m'v cannot be empty'\u001B[0m\u001B[1;33m)\u001B[0m\u001B[1;33m\u001B[0m\u001B[1;33m\u001B[0m\u001B[0m\n\u001B[0;32m    816\u001B[0m     \u001B[0mmode\u001B[0m \u001B[1;33m=\u001B[0m \u001B[0m_mode_from_name\u001B[0m\u001B[1;33m(\u001B[0m\u001B[0mmode\u001B[0m\u001B[1;33m)\u001B[0m\u001B[1;33m\u001B[0m\u001B[1;33m\u001B[0m\u001B[0m\n\u001B[1;32m--> 817\u001B[1;33m     \u001B[1;32mreturn\u001B[0m \u001B[0mmultiarray\u001B[0m\u001B[1;33m.\u001B[0m\u001B[0mcorrelate\u001B[0m\u001B[1;33m(\u001B[0m\u001B[0ma\u001B[0m\u001B[1;33m,\u001B[0m \u001B[0mv\u001B[0m\u001B[1;33m[\u001B[0m\u001B[1;33m:\u001B[0m\u001B[1;33m:\u001B[0m\u001B[1;33m-\u001B[0m\u001B[1;36m1\u001B[0m\u001B[1;33m]\u001B[0m\u001B[1;33m,\u001B[0m \u001B[0mmode\u001B[0m\u001B[1;33m)\u001B[0m\u001B[1;33m\u001B[0m\u001B[1;33m\u001B[0m\u001B[0m\n\u001B[0m\u001B[0;32m    818\u001B[0m \u001B[1;33m\u001B[0m\u001B[0m\n\u001B[0;32m    819\u001B[0m \u001B[1;33m\u001B[0m\u001B[0m\n",
      "\u001B[1;31mKeyboardInterrupt\u001B[0m: "
     ]
    }
   ],
   "source": [
    "x, y, z, t = symbols('x y z t')\n",
    "# исходный полином\n",
    "X = Poly(x ** 5 - x ** 4 - 2 * x ** 3 - 8 * x ** 2 + 6 * x - 1)\n",
    "# X = Poly(random_poly(x, 10, 25, 100))\n",
    "print(X)\n",
    "# numpy_poly_coef = np.poly1d(X.all_coeffs())# input array\n",
    "# print(numpy_poly_coef)\n",
    "n = degree(X) // 2\n",
    "R = np.array(range(0,n+1))\n",
    "factors = list()\n",
    "# раскладываем множество делителей X (i), где i эт\n",
    "for i in tqdm(range(0, n+1)):\n",
    "    t = X(i)\n",
    "    factors.append(get_factor(t))\n",
    "    factors[i].sort()\n",
    "factors_len = 1\n",
    "for f in factors:\n",
    "    factors_len = f.shape[0] * factors_len\n",
    "factors_len = factors_len // 2\n",
    "# print(factors)\n",
    "# print(len(factors))\n",
    "print(factors_len)\n",
    "ys = product(*factors)\n",
    "for i, y_i in tqdm(enumerate(ys), total=factors_len):\n",
    "    # print(\"-------------------------\")\n",
    "    y_i = np.array(y_i)\n",
    "    # print(y_i)\n",
    "    # print(R)\n",
    "    k = lagrange(R, y_i)\n",
    "    # print(k)\n",
    "    buf_poly = Poly(k.c, x)\n",
    "    # print(buf_poly_coef)\n",
    "    if degree(buf_poly) > 0:\n",
    "        quo, rem =  X.div(buf_poly)\n",
    "        # print(rem)\n",
    "        if rem == 0:\n",
    "            print(y_i)\n",
    "            print(buf_poly)\n",
    "            print(quo)\n",
    "            print(quo * buf_poly)\n",
    "            print(\"-------------------------\")\n",
    "    if i >= factors_len:\n",
    "        break"
   ]
  },
  {
   "cell_type": "code",
   "execution_count": 6,
   "outputs": [],
   "source": [
    "def brute_force(y_i):\n",
    "    global R\n",
    "    # print(R)\n",
    "    k = lagrange(R, y_i)\n",
    "    buf_poly = Poly(k.c, x)\n",
    "    # print(buf_poly_coef)\n",
    "    if degree(buf_poly) > 0:\n",
    "        quo, rem =  X.div(buf_poly)\n",
    "        # print(rem)\n",
    "        if rem == 0:\n",
    "            return quo, y_i\n",
    "        else:\n",
    "            return None\n",
    "    else:\n",
    "        return None"
   ],
   "metadata": {
    "collapsed": false,
    "pycharm": {
     "name": "#%%\n"
    }
   }
  },
  {
   "cell_type": "code",
   "execution_count": null,
   "outputs": [
    {
     "name": "stderr",
     "output_type": "stream",
     "text": [
      "100%|██████████| 6/6 [00:00<00:00, 2998.07it/s]\n",
      "3084it [01:15, 40.64it/s]  \n"
     ]
    },
    {
     "name": "stdout",
     "output_type": "stream",
     "text": [
      "Poly(92*x**10 + 47*x**9 + 26*x**8 + 60*x**7 + 45*x**6 + 100*x**5 + 52*x**4 + 57*x**3 + 80*x**2 + 45*x + 88, x, domain='ZZ')\n",
      "163840\n"
     ]
    }
   ],
   "source": [
    "import concurrent.futures\n",
    "import time\n",
    "x, y, z, t = symbols('x y z t')\n",
    "# X = Poly(x ** 5 - x ** 4 - 2 * x ** 3 - 8 * x ** 2 + 6 * x - 1)\n",
    "X = Poly(random_poly(x, 10, 25, 100))\n",
    "print(X)\n",
    "# numpy_poly_coef = np.poly1d(X.all_coeffs())# input array\n",
    "# print(numpy_poly_coef)\n",
    "n = degree(X) // 2\n",
    "R = np.array(range(0,n+1))\n",
    "factors = list()\n",
    "for i in tqdm(range(0, n+1)):\n",
    "    t = X(i)\n",
    "    factors.append(get_factor(t))\n",
    "    factors[i].sort()\n",
    "factors_len = 1\n",
    "for f in factors:\n",
    "    factors_len = f.shape[0] * factors_len\n",
    "factors_len = factors_len // 2\n",
    "print(factors_len)\n",
    "ys = product(*factors)\n",
    "with concurrent.futures.ThreadPoolExecutor() as executor:\n",
    "    futures = []\n",
    "    for res in tqdm(executor.map(brute_force, ys)):\n",
    "        if res is not None:\n",
    "            print(res)\n",
    "\n",
    "# for i, y_i in tqdm(enumerate(ys), total=factors_len):\n",
    "#     # print(\"-------------------------\")\n",
    "#     y_i = np.array(y_i)\n",
    "#     # print(y_i)\n",
    "#     # print(R)\n",
    "#     k = lagrange(R, y_i)\n",
    "#     # print(k)\n",
    "#     buf_poly = Poly(k.c, x)\n",
    "#     # print(buf_poly_coef)\n",
    "#     if degree(buf_poly) > 0:\n",
    "#         quo, rem =  X.div(buf_poly)\n",
    "#         # print(rem)\n",
    "#         if rem == 0:\n",
    "#             print(y_i)\n",
    "#             print(buf_poly)\n",
    "#             print(quo)\n",
    "#             print(quo * buf_poly)\n",
    "#             print(\"-------------------------\")\n",
    "#     if i >= factors_len:\n",
    "#         break"
   ],
   "metadata": {
    "collapsed": false,
    "pycharm": {
     "name": "#%%\n",
     "is_executing": true
    }
   }
  },
  {
   "cell_type": "code",
   "execution_count": 17,
   "metadata": {
    "pycharm": {
     "name": "#%%\n"
    }
   },
   "outputs": [
    {
     "name": "stdout",
     "output_type": "stream",
     "text": [
      "Poly(61*x**10 + 71*x**9 + 78*x**8 + 50*x**7 + 85*x**6 + 40*x**5 + 32*x**4 + 89*x**3 + 26*x**2 + 52*x + 25, x, domain='ZZ')\n",
      "(1, [(Poly(61*x**10 + 71*x**9 + 78*x**8 + 50*x**7 + 85*x**6 + 40*x**5 + 32*x**4 + 89*x**3 + 26*x**2 + 52*x + 25, x, domain='ZZ'), 1)])\n"
     ]
    }
   ],
   "source": [
    "X = Poly(random_poly(x, 10, 25, 100))\n",
    "print(X)\n",
    "t = factor_list(X)\n",
    "print(t)"
   ]
  },
  {
   "cell_type": "code",
   "execution_count": 13,
   "metadata": {
    "pycharm": {
     "name": "#%%\n"
    }
   },
   "outputs": [
    {
     "data": {
      "image/png": "[encoded data removed]",
      "text/latex": [
       "$\\displaystyle 45$"
      ],
      "text/plain": [
       "45"
      ]
     },
     "execution_count": 13,
     "metadata": {},
     "output_type": "execute_result"
    }
   ],
   "source": [
    "len(\"116837345136530503245738768505655316569055743\")"
   ]
  },
  {
   "cell_type": "code",
   "execution_count": 13,
   "metadata": {
    "pycharm": {
     "name": "#%%\n"
    }
   },
   "outputs": [
    {
     "name": "stdout",
     "output_type": "stream",
     "text": [
      "338688000000\n"
     ]
    }
   ],
   "source": [
    "mul_ = 1\n",
    "\n",
    "print(mul_)"
   ]
  },
  {
   "cell_type": "code",
   "execution_count": 15,
   "outputs": [
    {
     "data": {
      "text/plain": "Poly(x**2 + 5*x + 8, x, domain='ZZ')",
      "image/png": "[encoded data removed]",
      "text/latex": "$\\displaystyle \\operatorname{Poly}{\\left( x^{2} + 5 x + 8, x, domain=\\mathbb{Z} \\right)}$"
     },
     "execution_count": 15,
     "metadata": {},
     "output_type": "execute_result"
    }
   ],
   "source": [
    "Poly([1,5,8], x)"
   ],
   "metadata": {
    "collapsed": false,
    "pycharm": {
     "name": "#%%\n"
    }
   }
  }
 ],
 "metadata": {
  "kernelspec": {
   "display_name": "Python 3",
   "language": "python",
   "name": "python3"
  },
  "language_info": {
   "codemirror_mode": {
    "name": "ipython",
    "version": 3
   },
   "file_extension": ".py",
   "mimetype": "text/x-python",
   "name": "python",
   "nbconvert_exporter": "python",
   "pygments_lexer": "ipython3",
   "version": "3.7.3"
  }
 },
 "nbformat": 4,
 "nbformat_minor": 1
}